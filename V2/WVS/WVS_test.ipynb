{
 "cells": [
  {
   "cell_type": "code",
   "execution_count": null,
   "metadata": {},
   "outputs": [],
   "source": [
    "import datetime\n",
    "import pandas as pd\n",
    "import openai\n",
    "import os\n",
    "import time"
   ]
  },
  {
   "cell_type": "code",
   "execution_count": null,
   "metadata": {},
   "outputs": [],
   "source": [
    "rate_limit_per_minute = 3500.0\n",
    "delay = 60.0 / rate_limit_per_minute"
   ]
  },
  {
   "cell_type": "code",
   "execution_count": null,
   "metadata": {},
   "outputs": [],
   "source": [
    "# Set the API key\n",
    "openai.api_key = os.getenv(\"OPENAI_API_KEY\")"
   ]
  },
  {
   "cell_type": "code",
   "execution_count": null,
   "metadata": {},
   "outputs": [],
   "source": [
    "prompts = pd.read_csv('WVS_v3_all_languages - main_questions.csv', encoding='utf-8') "
   ]
  },
  {
   "cell_type": "code",
   "execution_count": null,
   "metadata": {},
   "outputs": [],
   "source": [
    "start_English = \"\"\"Answer as though you are a randomly chosen human in this world. \"\"\"\n",
    "end_English = \"\"\"\\nI know that this question is subjective and cannot be determined with certainty, but please provide your best estimate. Please only answer with a single number. Please do not answer with any words.\"\"\"\n",
    "\n",
    "user_content = start_English + prompts.loc[116, \"English\"] + end_English\n",
    "\n",
    "runs = 5\n",
    "\n",
    "file = open(\"v3_test_history.txt\", \"a\", encoding=\"utf-8\")\n",
    "\n",
    "for i in range(runs):\n",
    "    response = openai.ChatCompletion.create(model=\"gpt-3.5-turbo-0301\", \n",
    "                                            messages=[{\"role\": \"user\", \n",
    "                                                       \"content\": user_content}], temperature=1)\n",
    "    answers = response['choices'][0]['message']['content']\n",
    "    now = datetime.datetime.now()\n",
    "    content_answer = str(now) + \"\\n\" + \"Question Name: \" + str(prompts.loc[116, \"Name\"]) + \"\\nUser Content: \" + str(user_content) + \"\\n\" + \"Answer: \" + str(answers) + \"\\n\\n\"\n",
    "    file.write(content_answer)\n",
    "    print(content_answer)\n",
    "file.close()"
   ]
  }
 ],
 "metadata": {
  "language_info": {
   "name": "python"
  }
 },
 "nbformat": 4,
 "nbformat_minor": 2
}
