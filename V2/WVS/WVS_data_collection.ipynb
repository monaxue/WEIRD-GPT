{
 "cells": [
  {
   "cell_type": "code",
   "execution_count": 2,
   "metadata": {},
   "outputs": [],
   "source": [
    "import pandas as pd\n",
    "import openai\n",
    "import os\n",
    "import time\n",
    "import codecs"
   ]
  },
  {
   "cell_type": "code",
   "execution_count": 3,
   "metadata": {},
   "outputs": [],
   "source": [
    "rate_limit_per_minute = 3500.0\n",
    "delay = 60.0 / rate_limit_per_minute"
   ]
  },
  {
   "cell_type": "code",
   "execution_count": 4,
   "metadata": {},
   "outputs": [],
   "source": [
    "# Set the API key\n",
    "openai.api_key = os.getenv(\"OPENAI_API_KEY\")"
   ]
  },
  {
   "cell_type": "code",
   "execution_count": 5,
   "metadata": {},
   "outputs": [],
   "source": [
    "prompts = pd.read_csv('WVS_v2_all_languages.csv') "
   ]
  },
  {
   "cell_type": "code",
   "execution_count": 6,
   "metadata": {},
   "outputs": [
    {
     "name": "stdout",
     "output_type": "stream",
     "text": [
      "Aquí hay una lista de cualidades que se alienta a los niños a aprender en casa. ¿Cuál, si es que hay alguno, consideras especialmente importante? Si solo pudieras elegir un máximo de 5 de la lista, ¿sería \"buenos modales\" uno de ellos? Responda con un 1 o 2, donde 1 significa 'sí', y 2 significa 'no'. Por favor, asnwer con un solo número, sin palabras.\n",
      "1. Buenos modales\n",
      "2. Independencia\n",
      "3. Trabajo duro\n",
      "4. Sentimiento de responsabilidad\n",
      "5. Imaginación\n",
      "6. Tolerancia y respeto por otras personas\n",
      "7. ahorro, ahorro de dinero y cosas\n",
      "8. Determinación, perseverancia\n",
      "9. Fe religiosa\n",
      "10. No ser egoísta (desinteresado)\n",
      "11. Obediencia\n"
     ]
    },
    {
     "ename": "KeyError",
     "evalue": "'Chinese'",
     "output_type": "error",
     "traceback": [
      "\u001b[1;31m---------------------------------------------------------------------------\u001b[0m",
      "\u001b[1;31mKeyError\u001b[0m                                  Traceback (most recent call last)",
      "File \u001b[1;32mc:\\Users\\monaj\\AppData\\Local\\Programs\\Python\\Python311\\Lib\\site-packages\\pandas\\core\\indexes\\base.py:3802\u001b[0m, in \u001b[0;36mIndex.get_loc\u001b[1;34m(self, key, method, tolerance)\u001b[0m\n\u001b[0;32m   3801\u001b[0m \u001b[39mtry\u001b[39;00m:\n\u001b[1;32m-> 3802\u001b[0m     \u001b[39mreturn\u001b[39;00m \u001b[39mself\u001b[39;49m\u001b[39m.\u001b[39;49m_engine\u001b[39m.\u001b[39;49mget_loc(casted_key)\n\u001b[0;32m   3803\u001b[0m \u001b[39mexcept\u001b[39;00m \u001b[39mKeyError\u001b[39;00m \u001b[39mas\u001b[39;00m err:\n",
      "File \u001b[1;32mc:\\Users\\monaj\\AppData\\Local\\Programs\\Python\\Python311\\Lib\\site-packages\\pandas\\_libs\\index.pyx:138\u001b[0m, in \u001b[0;36mpandas._libs.index.IndexEngine.get_loc\u001b[1;34m()\u001b[0m\n",
      "File \u001b[1;32mc:\\Users\\monaj\\AppData\\Local\\Programs\\Python\\Python311\\Lib\\site-packages\\pandas\\_libs\\index.pyx:165\u001b[0m, in \u001b[0;36mpandas._libs.index.IndexEngine.get_loc\u001b[1;34m()\u001b[0m\n",
      "File \u001b[1;32mpandas\\_libs\\hashtable_class_helper.pxi:5745\u001b[0m, in \u001b[0;36mpandas._libs.hashtable.PyObjectHashTable.get_item\u001b[1;34m()\u001b[0m\n",
      "File \u001b[1;32mpandas\\_libs\\hashtable_class_helper.pxi:5753\u001b[0m, in \u001b[0;36mpandas._libs.hashtable.PyObjectHashTable.get_item\u001b[1;34m()\u001b[0m\n",
      "\u001b[1;31mKeyError\u001b[0m: 'Chinese'",
      "\nThe above exception was the direct cause of the following exception:\n",
      "\u001b[1;31mKeyError\u001b[0m                                  Traceback (most recent call last)",
      "\u001b[1;32mc:\\Users\\monaj\\OneDrive\\Lab manager\\WEIRD GPT\\V2\\WVS\\WVS_data_collection.ipynb Cell 5\u001b[0m line \u001b[0;36m2\n\u001b[0;32m      <a href='vscode-notebook-cell:/c%3A/Users/monaj/OneDrive/Lab%20manager/WEIRD%20GPT/V2/WVS/WVS_data_collection.ipynb#W6sZmlsZQ%3D%3D?line=0'>1</a>\u001b[0m \u001b[39mprint\u001b[39m(prompts\u001b[39m.\u001b[39mloc[\u001b[39m6\u001b[39m, \u001b[39m'\u001b[39m\u001b[39mSpanish\u001b[39m\u001b[39m'\u001b[39m])\n\u001b[1;32m----> <a href='vscode-notebook-cell:/c%3A/Users/monaj/OneDrive/Lab%20manager/WEIRD%20GPT/V2/WVS/WVS_data_collection.ipynb#W6sZmlsZQ%3D%3D?line=1'>2</a>\u001b[0m \u001b[39mprint\u001b[39m(codecs\u001b[39m.\u001b[39mdecode(prompts\u001b[39m.\u001b[39;49mloc[\u001b[39m6\u001b[39;49m, \u001b[39m'\u001b[39;49m\u001b[39mChinese\u001b[39;49m\u001b[39m'\u001b[39;49m], encoding\u001b[39m=\u001b[39m\u001b[39m'\u001b[39m\u001b[39mutf-8\u001b[39m\u001b[39m'\u001b[39m))\n",
      "File \u001b[1;32mc:\\Users\\monaj\\AppData\\Local\\Programs\\Python\\Python311\\Lib\\site-packages\\pandas\\core\\indexing.py:1066\u001b[0m, in \u001b[0;36m_LocationIndexer.__getitem__\u001b[1;34m(self, key)\u001b[0m\n\u001b[0;32m   1064\u001b[0m     key \u001b[39m=\u001b[39m \u001b[39mtuple\u001b[39m(com\u001b[39m.\u001b[39mapply_if_callable(x, \u001b[39mself\u001b[39m\u001b[39m.\u001b[39mobj) \u001b[39mfor\u001b[39;00m x \u001b[39min\u001b[39;00m key)\n\u001b[0;32m   1065\u001b[0m     \u001b[39mif\u001b[39;00m \u001b[39mself\u001b[39m\u001b[39m.\u001b[39m_is_scalar_access(key):\n\u001b[1;32m-> 1066\u001b[0m         \u001b[39mreturn\u001b[39;00m \u001b[39mself\u001b[39;49m\u001b[39m.\u001b[39;49mobj\u001b[39m.\u001b[39;49m_get_value(\u001b[39m*\u001b[39;49mkey, takeable\u001b[39m=\u001b[39;49m\u001b[39mself\u001b[39;49m\u001b[39m.\u001b[39;49m_takeable)\n\u001b[0;32m   1067\u001b[0m     \u001b[39mreturn\u001b[39;00m \u001b[39mself\u001b[39m\u001b[39m.\u001b[39m_getitem_tuple(key)\n\u001b[0;32m   1068\u001b[0m \u001b[39melse\u001b[39;00m:\n\u001b[0;32m   1069\u001b[0m     \u001b[39m# we by definition only have the 0th axis\u001b[39;00m\n",
      "File \u001b[1;32mc:\\Users\\monaj\\AppData\\Local\\Programs\\Python\\Python311\\Lib\\site-packages\\pandas\\core\\frame.py:3917\u001b[0m, in \u001b[0;36mDataFrame._get_value\u001b[1;34m(self, index, col, takeable)\u001b[0m\n\u001b[0;32m   3914\u001b[0m     series \u001b[39m=\u001b[39m \u001b[39mself\u001b[39m\u001b[39m.\u001b[39m_ixs(col, axis\u001b[39m=\u001b[39m\u001b[39m1\u001b[39m)\n\u001b[0;32m   3915\u001b[0m     \u001b[39mreturn\u001b[39;00m series\u001b[39m.\u001b[39m_values[index]\n\u001b[1;32m-> 3917\u001b[0m series \u001b[39m=\u001b[39m \u001b[39mself\u001b[39;49m\u001b[39m.\u001b[39;49m_get_item_cache(col)\n\u001b[0;32m   3918\u001b[0m engine \u001b[39m=\u001b[39m \u001b[39mself\u001b[39m\u001b[39m.\u001b[39mindex\u001b[39m.\u001b[39m_engine\n\u001b[0;32m   3920\u001b[0m \u001b[39mif\u001b[39;00m \u001b[39mnot\u001b[39;00m \u001b[39misinstance\u001b[39m(\u001b[39mself\u001b[39m\u001b[39m.\u001b[39mindex, MultiIndex):\n\u001b[0;32m   3921\u001b[0m     \u001b[39m# CategoricalIndex: Trying to use the engine fastpath may give incorrect\u001b[39;00m\n\u001b[0;32m   3922\u001b[0m     \u001b[39m#  results if our categories are integers that dont match our codes\u001b[39;00m\n\u001b[0;32m   3923\u001b[0m     \u001b[39m# IntervalIndex: IntervalTree has no get_loc\u001b[39;00m\n",
      "File \u001b[1;32mc:\\Users\\monaj\\AppData\\Local\\Programs\\Python\\Python311\\Lib\\site-packages\\pandas\\core\\frame.py:4282\u001b[0m, in \u001b[0;36mDataFrame._get_item_cache\u001b[1;34m(self, item)\u001b[0m\n\u001b[0;32m   4277\u001b[0m res \u001b[39m=\u001b[39m cache\u001b[39m.\u001b[39mget(item)\n\u001b[0;32m   4278\u001b[0m \u001b[39mif\u001b[39;00m res \u001b[39mis\u001b[39;00m \u001b[39mNone\u001b[39;00m:\n\u001b[0;32m   4279\u001b[0m     \u001b[39m# All places that call _get_item_cache have unique columns,\u001b[39;00m\n\u001b[0;32m   4280\u001b[0m     \u001b[39m#  pending resolution of GH#33047\u001b[39;00m\n\u001b[1;32m-> 4282\u001b[0m     loc \u001b[39m=\u001b[39m \u001b[39mself\u001b[39;49m\u001b[39m.\u001b[39;49mcolumns\u001b[39m.\u001b[39;49mget_loc(item)\n\u001b[0;32m   4283\u001b[0m     res \u001b[39m=\u001b[39m \u001b[39mself\u001b[39m\u001b[39m.\u001b[39m_ixs(loc, axis\u001b[39m=\u001b[39m\u001b[39m1\u001b[39m)\n\u001b[0;32m   4285\u001b[0m     cache[item] \u001b[39m=\u001b[39m res\n",
      "File \u001b[1;32mc:\\Users\\monaj\\AppData\\Local\\Programs\\Python\\Python311\\Lib\\site-packages\\pandas\\core\\indexes\\base.py:3804\u001b[0m, in \u001b[0;36mIndex.get_loc\u001b[1;34m(self, key, method, tolerance)\u001b[0m\n\u001b[0;32m   3802\u001b[0m     \u001b[39mreturn\u001b[39;00m \u001b[39mself\u001b[39m\u001b[39m.\u001b[39m_engine\u001b[39m.\u001b[39mget_loc(casted_key)\n\u001b[0;32m   3803\u001b[0m \u001b[39mexcept\u001b[39;00m \u001b[39mKeyError\u001b[39;00m \u001b[39mas\u001b[39;00m err:\n\u001b[1;32m-> 3804\u001b[0m     \u001b[39mraise\u001b[39;00m \u001b[39mKeyError\u001b[39;00m(key) \u001b[39mfrom\u001b[39;00m \u001b[39merr\u001b[39;00m\n\u001b[0;32m   3805\u001b[0m \u001b[39mexcept\u001b[39;00m \u001b[39mTypeError\u001b[39;00m:\n\u001b[0;32m   3806\u001b[0m     \u001b[39m# If we have a listlike key, _check_indexing_error will raise\u001b[39;00m\n\u001b[0;32m   3807\u001b[0m     \u001b[39m#  InvalidIndexError. Otherwise we fall through and re-raise\u001b[39;00m\n\u001b[0;32m   3808\u001b[0m     \u001b[39m#  the TypeError.\u001b[39;00m\n\u001b[0;32m   3809\u001b[0m     \u001b[39mself\u001b[39m\u001b[39m.\u001b[39m_check_indexing_error(key)\n",
      "\u001b[1;31mKeyError\u001b[0m: 'Chinese'"
     ]
    }
   ],
   "source": [
    "print(prompts.loc[6, 'Spanish'])\n",
    "print(codecs.decode(prompts.loc[6, 'Chinese'], encoding='utf-8'))"
   ]
  },
  {
   "cell_type": "code",
   "execution_count": 7,
   "metadata": {},
   "outputs": [
    {
     "name": "stdout",
     "output_type": "stream",
     "text": [
      "Iteration: 0\n",
      "Prompt name: core_1_1\n",
      "Success\n",
      "\n",
      "Iteration: 0\n",
      "Prompt name: core_1_2\n",
      "Success\n",
      "\n",
      "Iteration: 0\n",
      "Prompt name: core_1_3\n",
      "Success\n",
      "\n",
      "Iteration: 0\n",
      "Prompt name: core_1_4\n",
      "Success\n",
      "\n",
      "Iteration: 0\n",
      "Prompt name: core_1_5\n",
      "Success\n",
      "\n",
      "Iteration: 0\n",
      "Prompt name: core_1_6\n",
      "Success\n",
      "\n",
      "Iteration: 0\n",
      "Prompt name: core_2_1\n",
      "Success\n",
      "\n",
      "Iteration: 0\n",
      "Prompt name: core_2_2\n",
      "Success\n",
      "\n",
      "Iteration: 0\n",
      "Prompt name: core_2_3\n",
      "Success\n",
      "\n",
      "Iteration: 0\n",
      "Prompt name: core_2_4\n",
      "Success\n",
      "\n",
      "Iteration: 0\n",
      "Prompt name: core_2_5\n",
      "Success\n",
      "\n",
      "Iteration: 0\n",
      "Prompt name: core_2_6\n",
      "Success\n",
      "\n",
      "Iteration: 0\n",
      "Prompt name: core_2_7\n",
      "Success\n",
      "\n",
      "Iteration: 0\n",
      "Prompt name: core_2_8\n",
      "Success\n",
      "\n",
      "Iteration: 0\n",
      "Prompt name: core_2_9\n",
      "Success\n",
      "\n",
      "Iteration: 0\n",
      "Prompt name: core_2_10\n",
      "Success\n",
      "\n",
      "Iteration: 0\n",
      "Prompt name: core_2_11\n",
      "Success\n",
      "\n",
      "Iteration: 0\n",
      "Prompt name: core_3_1\n",
      "Success\n",
      "\n",
      "Iteration: 0\n",
      "Prompt name: core_3_2\n",
      "Success\n",
      "\n",
      "Iteration: 0\n",
      "Prompt name: core_3_3\n",
      "Success\n",
      "\n",
      "Iteration: 0\n",
      "Prompt name: core_3_4\n",
      "Success\n",
      "\n",
      "Iteration: 0\n",
      "Prompt name: core_3_5\n",
      "Success\n",
      "\n",
      "Iteration: 0\n",
      "Prompt name: core_3_6\n",
      "Success\n",
      "\n",
      "Iteration: 0\n",
      "Prompt name: core_3_7\n",
      "Success\n",
      "\n",
      "Iteration: 0\n",
      "Prompt name: core_3_8\n",
      "Success\n",
      "\n",
      "Iteration: 0\n",
      "Prompt name: core_3_9\n",
      "Success\n",
      "\n",
      "Iteration: 0\n",
      "Prompt name: core_4_1\n",
      "Success\n",
      "\n",
      "Iteration: 0\n",
      "Prompt name: core_4_2\n",
      "Success\n",
      "\n",
      "Iteration: 0\n",
      "Prompt name: core_4_3\n",
      "Success\n",
      "\n",
      "Iteration: 0\n",
      "Prompt name: core_4_4\n",
      "Success\n",
      "\n",
      "Iteration: 0\n",
      "Prompt name: core_4_5\n",
      "Success\n",
      "\n",
      "Iteration: 0\n",
      "Prompt name: core_4_6\n",
      "Success\n",
      "\n",
      "Iteration: 0\n",
      "Prompt name: core_5_1\n",
      "Success\n",
      "\n",
      "Iteration: 0\n",
      "Prompt name: core_5_2\n",
      "Success\n",
      "\n",
      "Iteration: 0\n",
      "Prompt name: core_5_3\n",
      "Success\n",
      "\n",
      "Iteration: 0\n",
      "Prompt name: core_5_4\n",
      "Success\n",
      "\n",
      "Iteration: 0\n",
      "Prompt name: core_5_5\n",
      "Success\n",
      "\n",
      "Iteration: 0\n",
      "Prompt name: core_5_6\n",
      "Success\n",
      "\n",
      "Iteration: 0\n",
      "Prompt name: core_5_7\n",
      "Success\n",
      "\n",
      "Iteration: 0\n",
      "Prompt name: core_5_8\n",
      "Success\n",
      "\n",
      "Iteration: 0\n",
      "Prompt name: core_5_9\n",
      "Success\n",
      "\n",
      "Iteration: 0\n",
      "Prompt name: core_6\n",
      "Success\n",
      "\n",
      "Iteration: 0\n",
      "Prompt name: core_7_1\n",
      "Success\n",
      "\n",
      "Iteration: 0\n",
      "Prompt name: core_7_2\n",
      "Success\n",
      "\n",
      "Iteration: 0\n",
      "Prompt name: core_7_3\n",
      "Success\n",
      "\n",
      "Iteration: 0\n",
      "Prompt name: happiness_1\n",
      "Success\n",
      "\n",
      "Iteration: 0\n",
      "Prompt name: happiness_2\n",
      "Success\n",
      "\n",
      "Iteration: 0\n",
      "Prompt name: happiness_3\n",
      "Success\n",
      "\n",
      "Iteration: 0\n",
      "Prompt name: happiness_4\n",
      "Success\n",
      "\n",
      "Iteration: 0\n",
      "Prompt name: happiness_5\n",
      "Success\n",
      "\n",
      "Iteration: 0\n",
      "Prompt name: happiness_6_1\n",
      "Success\n",
      "\n",
      "Iteration: 0\n",
      "Prompt name: happiness_6_2\n",
      "Success\n",
      "\n",
      "Iteration: 0\n",
      "Prompt name: happiness_6_3\n",
      "Success\n",
      "\n",
      "Iteration: 0\n",
      "Prompt name: happiness_6_4\n",
      "Success\n",
      "\n",
      "Iteration: 0\n",
      "Prompt name: happiness_6_5\n",
      "Success\n",
      "\n",
      "Iteration: 0\n",
      "Prompt name: happiness_7\n",
      "Success\n",
      "\n",
      "Iteration: 0\n",
      "Prompt name: trust_1\n",
      "Success\n",
      "\n",
      "Iteration: 0\n",
      "Prompt name: trust_2_1\n",
      "Success\n",
      "\n",
      "Iteration: 0\n",
      "Prompt name: trust_2_2\n",
      "Success\n",
      "\n",
      "Iteration: 0\n",
      "Prompt name: trust_2_3\n",
      "Success\n",
      "\n",
      "Iteration: 0\n",
      "Prompt name: trust_2_4\n",
      "Success\n",
      "\n",
      "Iteration: 0\n",
      "Prompt name: trust_2_5\n",
      "Success\n",
      "\n",
      "Iteration: 0\n",
      "Prompt name: trust_2_6\n",
      "Success\n",
      "\n",
      "Iteration: 0\n",
      "Prompt name: trust_3_1\n",
      "Success\n",
      "\n",
      "Iteration: 0\n",
      "Prompt name: trust_3_2\n",
      "Success\n",
      "\n",
      "Iteration: 0\n",
      "Prompt name: trust_3_3\n",
      "Success\n",
      "\n",
      "Iteration: 0\n",
      "Prompt name: trust_3_4\n",
      "Success\n",
      "\n",
      "Iteration: 0\n",
      "Prompt name: trust_3_5\n",
      "Success\n",
      "\n",
      "Iteration: 0\n",
      "Prompt name: trust_3_6\n",
      "Success\n",
      "\n",
      "Iteration: 0\n",
      "Prompt name: trust_3_7\n",
      "Success\n",
      "\n",
      "Iteration: 0\n",
      "Prompt name: trust_3_8\n",
      "Success\n",
      "\n",
      "Iteration: 0\n",
      "Prompt name: trust_3_9\n",
      "Success\n",
      "\n",
      "Iteration: 0\n",
      "Prompt name: trust_3_10\n",
      "Success\n",
      "\n",
      "Iteration: 0\n",
      "Prompt name: trust_3_11\n",
      "Success\n",
      "\n",
      "Iteration: 0\n",
      "Prompt name: trust_3_12\n",
      "Success\n",
      "\n",
      "Iteration: 0\n",
      "Prompt name: trust_3_13\n",
      "Success\n",
      "\n",
      "Iteration: 0\n",
      "Prompt name: trust_3_14\n",
      "Success\n",
      "\n",
      "Iteration: 0\n",
      "Prompt name: trust_3_15\n",
      "Success\n",
      "\n",
      "Iteration: 0\n",
      "Prompt name: trust_3_16\n",
      "Success\n",
      "\n",
      "Iteration: 0\n",
      "Prompt name: trust_3_17\n",
      "Success\n",
      "\n",
      "Iteration: 0\n",
      "Prompt name: trust_3_18\n",
      "Success\n",
      "\n",
      "Iteration: 0\n",
      "Prompt name: trust_3_19\n",
      "Success\n",
      "\n",
      "Iteration: 0\n",
      "Prompt name: trust_3_20\n",
      "Success\n",
      "\n",
      "Iteration: 0\n",
      "Prompt name: trust_3_21\n",
      "Success\n",
      "\n",
      "Iteration: 0\n",
      "Prompt name: trust_3_22\n",
      "Success\n",
      "\n",
      "Iteration: 0\n",
      "Prompt name: trust_3_23\n",
      "Success\n",
      "\n",
      "Iteration: 0\n",
      "Prompt name: trust_3_24\n",
      "Success\n",
      "\n",
      "Iteration: 0\n",
      "Prompt name: trust_3_25\n",
      "Success\n",
      "\n",
      "Iteration: 0\n",
      "Prompt name: trust_4\n",
      "Success\n",
      "\n",
      "Iteration: 0\n",
      "Prompt name: trust_5_1\n",
      "Success\n",
      "\n",
      "Iteration: 0\n",
      "Prompt name: trust_5_2\n",
      "Success\n",
      "\n",
      "Iteration: 0\n",
      "Prompt name: trust_5_3\n",
      "Success\n",
      "\n",
      "Iteration: 0\n",
      "Prompt name: trust_6_1\n",
      "Success\n",
      "\n",
      "Iteration: 0\n",
      "Prompt name: trust_6_2\n",
      "Success\n",
      "\n",
      "Iteration: 0\n",
      "Prompt name: trust_6_3\n",
      "Success\n",
      "\n",
      "Iteration: 0\n",
      "Prompt name: trust_6_4\n",
      "Success\n",
      "\n",
      "Iteration: 0\n",
      "Prompt name: trust_6_5\n",
      "Success\n",
      "\n",
      "Iteration: 0\n",
      "Prompt name: trust_6_6\n",
      "Success\n",
      "\n",
      "Iteration: 0\n",
      "Prompt name: trust_6_7\n",
      "Success\n",
      "\n",
      "Iteration: 0\n",
      "Prompt name: trust_6_8\n",
      "Success\n",
      "\n"
     ]
    },
    {
     "name": "stderr",
     "output_type": "stream",
     "text": [
      "C:\\Users\\monaj\\AppData\\Local\\Temp\\ipykernel_21944\\3938600487.py:19: PerformanceWarning: DataFrame is highly fragmented.  This is usually the result of calling `frame.insert` many times, which has poor performance.  Consider joining all columns at once using pd.concat(axis=1) instead. To get a de-fragmented frame, use `newframe = frame.copy()`\n",
      "  df.loc[count, prompts.loc[j, \"Name\"]] = answer\n"
     ]
    },
    {
     "name": "stdout",
     "output_type": "stream",
     "text": [
      "Iteration: 0\n",
      "Prompt name: trust_6_9\n",
      "Success\n",
      "\n"
     ]
    },
    {
     "name": "stderr",
     "output_type": "stream",
     "text": [
      "C:\\Users\\monaj\\AppData\\Local\\Temp\\ipykernel_21944\\3938600487.py:19: PerformanceWarning: DataFrame is highly fragmented.  This is usually the result of calling `frame.insert` many times, which has poor performance.  Consider joining all columns at once using pd.concat(axis=1) instead. To get a de-fragmented frame, use `newframe = frame.copy()`\n",
      "  df.loc[count, prompts.loc[j, \"Name\"]] = answer\n"
     ]
    },
    {
     "name": "stdout",
     "output_type": "stream",
     "text": [
      "Iteration: 0\n",
      "Prompt name: trust_6_10\n",
      "Success\n",
      "\n"
     ]
    },
    {
     "name": "stderr",
     "output_type": "stream",
     "text": [
      "C:\\Users\\monaj\\AppData\\Local\\Temp\\ipykernel_21944\\3938600487.py:19: PerformanceWarning: DataFrame is highly fragmented.  This is usually the result of calling `frame.insert` many times, which has poor performance.  Consider joining all columns at once using pd.concat(axis=1) instead. To get a de-fragmented frame, use `newframe = frame.copy()`\n",
      "  df.loc[count, prompts.loc[j, \"Name\"]] = answer\n"
     ]
    },
    {
     "name": "stdout",
     "output_type": "stream",
     "text": [
      "Iteration: 0\n",
      "Prompt name: trust_6_11\n",
      "Success\n",
      "\n"
     ]
    },
    {
     "name": "stderr",
     "output_type": "stream",
     "text": [
      "C:\\Users\\monaj\\AppData\\Local\\Temp\\ipykernel_21944\\3938600487.py:19: PerformanceWarning: DataFrame is highly fragmented.  This is usually the result of calling `frame.insert` many times, which has poor performance.  Consider joining all columns at once using pd.concat(axis=1) instead. To get a de-fragmented frame, use `newframe = frame.copy()`\n",
      "  df.loc[count, prompts.loc[j, \"Name\"]] = answer\n"
     ]
    },
    {
     "name": "stdout",
     "output_type": "stream",
     "text": [
      "Iteration: 0\n",
      "Prompt name: econ_values_1_1\n",
      "Success\n",
      "\n"
     ]
    },
    {
     "name": "stderr",
     "output_type": "stream",
     "text": [
      "C:\\Users\\monaj\\AppData\\Local\\Temp\\ipykernel_21944\\3938600487.py:19: PerformanceWarning: DataFrame is highly fragmented.  This is usually the result of calling `frame.insert` many times, which has poor performance.  Consider joining all columns at once using pd.concat(axis=1) instead. To get a de-fragmented frame, use `newframe = frame.copy()`\n",
      "  df.loc[count, prompts.loc[j, \"Name\"]] = answer\n"
     ]
    },
    {
     "name": "stdout",
     "output_type": "stream",
     "text": [
      "Iteration: 0\n",
      "Prompt name: econ_values_1_2\n",
      "Success\n",
      "\n"
     ]
    },
    {
     "name": "stderr",
     "output_type": "stream",
     "text": [
      "C:\\Users\\monaj\\AppData\\Local\\Temp\\ipykernel_21944\\3938600487.py:19: PerformanceWarning: DataFrame is highly fragmented.  This is usually the result of calling `frame.insert` many times, which has poor performance.  Consider joining all columns at once using pd.concat(axis=1) instead. To get a de-fragmented frame, use `newframe = frame.copy()`\n",
      "  df.loc[count, prompts.loc[j, \"Name\"]] = answer\n",
      "C:\\Users\\monaj\\AppData\\Local\\Temp\\ipykernel_21944\\3938600487.py:19: PerformanceWarning: DataFrame is highly fragmented.  This is usually the result of calling `frame.insert` many times, which has poor performance.  Consider joining all columns at once using pd.concat(axis=1) instead. To get a de-fragmented frame, use `newframe = frame.copy()`\n",
      "  df.loc[count, prompts.loc[j, \"Name\"]] = answer\n"
     ]
    },
    {
     "name": "stdout",
     "output_type": "stream",
     "text": [
      "Iteration: 0\n",
      "Prompt name: econ_values_1_3\n",
      "Success\n",
      "\n",
      "Iteration: 0\n",
      "Prompt name: econ_values_1_4\n",
      "Success\n",
      "\n"
     ]
    },
    {
     "name": "stderr",
     "output_type": "stream",
     "text": [
      "C:\\Users\\monaj\\AppData\\Local\\Temp\\ipykernel_21944\\3938600487.py:19: PerformanceWarning: DataFrame is highly fragmented.  This is usually the result of calling `frame.insert` many times, which has poor performance.  Consider joining all columns at once using pd.concat(axis=1) instead. To get a de-fragmented frame, use `newframe = frame.copy()`\n",
      "  df.loc[count, prompts.loc[j, \"Name\"]] = answer\n"
     ]
    },
    {
     "name": "stdout",
     "output_type": "stream",
     "text": [
      "Iteration: 0\n",
      "Prompt name: econ_values_1_5\n",
      "Success\n",
      "\n"
     ]
    },
    {
     "name": "stderr",
     "output_type": "stream",
     "text": [
      "C:\\Users\\monaj\\AppData\\Local\\Temp\\ipykernel_21944\\3938600487.py:19: PerformanceWarning: DataFrame is highly fragmented.  This is usually the result of calling `frame.insert` many times, which has poor performance.  Consider joining all columns at once using pd.concat(axis=1) instead. To get a de-fragmented frame, use `newframe = frame.copy()`\n",
      "  df.loc[count, prompts.loc[j, \"Name\"]] = answer\n"
     ]
    },
    {
     "name": "stdout",
     "output_type": "stream",
     "text": [
      "Iteration: 0\n",
      "Prompt name: econ_values_2\n",
      "Success\n",
      "\n"
     ]
    },
    {
     "name": "stderr",
     "output_type": "stream",
     "text": [
      "C:\\Users\\monaj\\AppData\\Local\\Temp\\ipykernel_21944\\3938600487.py:19: PerformanceWarning: DataFrame is highly fragmented.  This is usually the result of calling `frame.insert` many times, which has poor performance.  Consider joining all columns at once using pd.concat(axis=1) instead. To get a de-fragmented frame, use `newframe = frame.copy()`\n",
      "  df.loc[count, prompts.loc[j, \"Name\"]] = answer\n",
      "C:\\Users\\monaj\\AppData\\Local\\Temp\\ipykernel_21944\\3938600487.py:19: PerformanceWarning: DataFrame is highly fragmented.  This is usually the result of calling `frame.insert` many times, which has poor performance.  Consider joining all columns at once using pd.concat(axis=1) instead. To get a de-fragmented frame, use `newframe = frame.copy()`\n",
      "  df.loc[count, prompts.loc[j, \"Name\"]] = answer\n"
     ]
    },
    {
     "name": "stdout",
     "output_type": "stream",
     "text": [
      "Iteration: 0\n",
      "Prompt name: corruption_1\n",
      "Success\n",
      "\n",
      "Iteration: 0\n",
      "Prompt name: corruption_2_1\n",
      "Success\n",
      "\n"
     ]
    },
    {
     "name": "stderr",
     "output_type": "stream",
     "text": [
      "C:\\Users\\monaj\\AppData\\Local\\Temp\\ipykernel_21944\\3938600487.py:19: PerformanceWarning: DataFrame is highly fragmented.  This is usually the result of calling `frame.insert` many times, which has poor performance.  Consider joining all columns at once using pd.concat(axis=1) instead. To get a de-fragmented frame, use `newframe = frame.copy()`\n",
      "  df.loc[count, prompts.loc[j, \"Name\"]] = answer\n",
      "C:\\Users\\monaj\\AppData\\Local\\Temp\\ipykernel_21944\\3938600487.py:19: PerformanceWarning: DataFrame is highly fragmented.  This is usually the result of calling `frame.insert` many times, which has poor performance.  Consider joining all columns at once using pd.concat(axis=1) instead. To get a de-fragmented frame, use `newframe = frame.copy()`\n",
      "  df.loc[count, prompts.loc[j, \"Name\"]] = answer\n"
     ]
    },
    {
     "name": "stdout",
     "output_type": "stream",
     "text": [
      "Iteration: 0\n",
      "Prompt name: corruption_2_2\n",
      "Success\n",
      "\n",
      "Iteration: 0\n",
      "Prompt name: corruption_2_3\n",
      "Success\n",
      "\n"
     ]
    },
    {
     "name": "stderr",
     "output_type": "stream",
     "text": [
      "C:\\Users\\monaj\\AppData\\Local\\Temp\\ipykernel_21944\\3938600487.py:19: PerformanceWarning: DataFrame is highly fragmented.  This is usually the result of calling `frame.insert` many times, which has poor performance.  Consider joining all columns at once using pd.concat(axis=1) instead. To get a de-fragmented frame, use `newframe = frame.copy()`\n",
      "  df.loc[count, prompts.loc[j, \"Name\"]] = answer\n"
     ]
    },
    {
     "name": "stdout",
     "output_type": "stream",
     "text": [
      "Iteration: 0\n",
      "Prompt name: corruption_2_4\n",
      "Success\n",
      "\n"
     ]
    },
    {
     "name": "stderr",
     "output_type": "stream",
     "text": [
      "C:\\Users\\monaj\\AppData\\Local\\Temp\\ipykernel_21944\\3938600487.py:19: PerformanceWarning: DataFrame is highly fragmented.  This is usually the result of calling `frame.insert` many times, which has poor performance.  Consider joining all columns at once using pd.concat(axis=1) instead. To get a de-fragmented frame, use `newframe = frame.copy()`\n",
      "  df.loc[count, prompts.loc[j, \"Name\"]] = answer\n",
      "C:\\Users\\monaj\\AppData\\Local\\Temp\\ipykernel_21944\\3938600487.py:19: PerformanceWarning: DataFrame is highly fragmented.  This is usually the result of calling `frame.insert` many times, which has poor performance.  Consider joining all columns at once using pd.concat(axis=1) instead. To get a de-fragmented frame, use `newframe = frame.copy()`\n",
      "  df.loc[count, prompts.loc[j, \"Name\"]] = answer\n"
     ]
    },
    {
     "name": "stdout",
     "output_type": "stream",
     "text": [
      "Iteration: 0\n",
      "Prompt name: corruption_2_5\n",
      "Success\n",
      "\n",
      "Iteration: 0\n",
      "Prompt name: corruption_3\n",
      "Success\n",
      "\n"
     ]
    },
    {
     "name": "stderr",
     "output_type": "stream",
     "text": [
      "C:\\Users\\monaj\\AppData\\Local\\Temp\\ipykernel_21944\\3938600487.py:19: PerformanceWarning: DataFrame is highly fragmented.  This is usually the result of calling `frame.insert` many times, which has poor performance.  Consider joining all columns at once using pd.concat(axis=1) instead. To get a de-fragmented frame, use `newframe = frame.copy()`\n",
      "  df.loc[count, prompts.loc[j, \"Name\"]] = answer\n"
     ]
    },
    {
     "name": "stdout",
     "output_type": "stream",
     "text": [
      "Iteration: 0\n",
      "Prompt name: corruption_4\n",
      "Success\n",
      "\n"
     ]
    },
    {
     "name": "stderr",
     "output_type": "stream",
     "text": [
      "C:\\Users\\monaj\\AppData\\Local\\Temp\\ipykernel_21944\\3938600487.py:19: PerformanceWarning: DataFrame is highly fragmented.  This is usually the result of calling `frame.insert` many times, which has poor performance.  Consider joining all columns at once using pd.concat(axis=1) instead. To get a de-fragmented frame, use `newframe = frame.copy()`\n",
      "  df.loc[count, prompts.loc[j, \"Name\"]] = answer\n",
      "C:\\Users\\monaj\\AppData\\Local\\Temp\\ipykernel_21944\\3938600487.py:19: PerformanceWarning: DataFrame is highly fragmented.  This is usually the result of calling `frame.insert` many times, which has poor performance.  Consider joining all columns at once using pd.concat(axis=1) instead. To get a de-fragmented frame, use `newframe = frame.copy()`\n",
      "  df.loc[count, prompts.loc[j, \"Name\"]] = answer\n"
     ]
    },
    {
     "name": "stdout",
     "output_type": "stream",
     "text": [
      "Iteration: 0\n",
      "Prompt name: corruption_5\n",
      "Success\n",
      "\n",
      "Iteration: 0\n",
      "Prompt name: migration_1\n",
      "Success\n",
      "\n"
     ]
    },
    {
     "name": "stderr",
     "output_type": "stream",
     "text": [
      "C:\\Users\\monaj\\AppData\\Local\\Temp\\ipykernel_21944\\3938600487.py:19: PerformanceWarning: DataFrame is highly fragmented.  This is usually the result of calling `frame.insert` many times, which has poor performance.  Consider joining all columns at once using pd.concat(axis=1) instead. To get a de-fragmented frame, use `newframe = frame.copy()`\n",
      "  df.loc[count, prompts.loc[j, \"Name\"]] = answer\n"
     ]
    },
    {
     "name": "stdout",
     "output_type": "stream",
     "text": [
      "Iteration: 0\n",
      "Prompt name: migration_2_1\n",
      "Success\n",
      "\n"
     ]
    },
    {
     "name": "stderr",
     "output_type": "stream",
     "text": [
      "C:\\Users\\monaj\\AppData\\Local\\Temp\\ipykernel_21944\\3938600487.py:19: PerformanceWarning: DataFrame is highly fragmented.  This is usually the result of calling `frame.insert` many times, which has poor performance.  Consider joining all columns at once using pd.concat(axis=1) instead. To get a de-fragmented frame, use `newframe = frame.copy()`\n",
      "  df.loc[count, prompts.loc[j, \"Name\"]] = answer\n"
     ]
    },
    {
     "name": "stdout",
     "output_type": "stream",
     "text": [
      "Iteration: 0\n",
      "Prompt name: migration_2_2\n",
      "Success\n",
      "\n"
     ]
    },
    {
     "name": "stderr",
     "output_type": "stream",
     "text": [
      "C:\\Users\\monaj\\AppData\\Local\\Temp\\ipykernel_21944\\3938600487.py:19: PerformanceWarning: DataFrame is highly fragmented.  This is usually the result of calling `frame.insert` many times, which has poor performance.  Consider joining all columns at once using pd.concat(axis=1) instead. To get a de-fragmented frame, use `newframe = frame.copy()`\n",
      "  df.loc[count, prompts.loc[j, \"Name\"]] = answer\n",
      "C:\\Users\\monaj\\AppData\\Local\\Temp\\ipykernel_21944\\3938600487.py:19: PerformanceWarning: DataFrame is highly fragmented.  This is usually the result of calling `frame.insert` many times, which has poor performance.  Consider joining all columns at once using pd.concat(axis=1) instead. To get a de-fragmented frame, use `newframe = frame.copy()`\n",
      "  df.loc[count, prompts.loc[j, \"Name\"]] = answer\n"
     ]
    },
    {
     "name": "stdout",
     "output_type": "stream",
     "text": [
      "Iteration: 0\n",
      "Prompt name: migration_2_3\n",
      "Success\n",
      "\n",
      "Iteration: 0\n",
      "Prompt name: migration_2_4\n",
      "Success\n",
      "\n"
     ]
    },
    {
     "name": "stderr",
     "output_type": "stream",
     "text": [
      "C:\\Users\\monaj\\AppData\\Local\\Temp\\ipykernel_21944\\3938600487.py:19: PerformanceWarning: DataFrame is highly fragmented.  This is usually the result of calling `frame.insert` many times, which has poor performance.  Consider joining all columns at once using pd.concat(axis=1) instead. To get a de-fragmented frame, use `newframe = frame.copy()`\n",
      "  df.loc[count, prompts.loc[j, \"Name\"]] = answer\n"
     ]
    },
    {
     "name": "stdout",
     "output_type": "stream",
     "text": [
      "Iteration: 0\n",
      "Prompt name: migration_2_5\n",
      "Success\n",
      "\n"
     ]
    },
    {
     "name": "stderr",
     "output_type": "stream",
     "text": [
      "C:\\Users\\monaj\\AppData\\Local\\Temp\\ipykernel_21944\\3938600487.py:19: PerformanceWarning: DataFrame is highly fragmented.  This is usually the result of calling `frame.insert` many times, which has poor performance.  Consider joining all columns at once using pd.concat(axis=1) instead. To get a de-fragmented frame, use `newframe = frame.copy()`\n",
      "  df.loc[count, prompts.loc[j, \"Name\"]] = answer\n"
     ]
    },
    {
     "name": "stdout",
     "output_type": "stream",
     "text": [
      "Iteration: 0\n",
      "Prompt name: migration_2_6\n",
      "Success\n",
      "\n"
     ]
    },
    {
     "name": "stderr",
     "output_type": "stream",
     "text": [
      "C:\\Users\\monaj\\AppData\\Local\\Temp\\ipykernel_21944\\3938600487.py:19: PerformanceWarning: DataFrame is highly fragmented.  This is usually the result of calling `frame.insert` many times, which has poor performance.  Consider joining all columns at once using pd.concat(axis=1) instead. To get a de-fragmented frame, use `newframe = frame.copy()`\n",
      "  df.loc[count, prompts.loc[j, \"Name\"]] = answer\n"
     ]
    },
    {
     "name": "stdout",
     "output_type": "stream",
     "text": [
      "Iteration: 0\n",
      "Prompt name: migration_2_7\n",
      "Success\n",
      "\n"
     ]
    },
    {
     "name": "stderr",
     "output_type": "stream",
     "text": [
      "C:\\Users\\monaj\\AppData\\Local\\Temp\\ipykernel_21944\\3938600487.py:19: PerformanceWarning: DataFrame is highly fragmented.  This is usually the result of calling `frame.insert` many times, which has poor performance.  Consider joining all columns at once using pd.concat(axis=1) instead. To get a de-fragmented frame, use `newframe = frame.copy()`\n",
      "  df.loc[count, prompts.loc[j, \"Name\"]] = answer\n",
      "C:\\Users\\monaj\\AppData\\Local\\Temp\\ipykernel_21944\\3938600487.py:19: PerformanceWarning: DataFrame is highly fragmented.  This is usually the result of calling `frame.insert` many times, which has poor performance.  Consider joining all columns at once using pd.concat(axis=1) instead. To get a de-fragmented frame, use `newframe = frame.copy()`\n",
      "  df.loc[count, prompts.loc[j, \"Name\"]] = answer\n"
     ]
    },
    {
     "name": "stdout",
     "output_type": "stream",
     "text": [
      "Iteration: 0\n",
      "Prompt name: migration_2_8\n",
      "Success\n",
      "\n",
      "Iteration: 0\n",
      "Prompt name: migration_3\n",
      "Success\n",
      "\n"
     ]
    },
    {
     "name": "stderr",
     "output_type": "stream",
     "text": [
      "C:\\Users\\monaj\\AppData\\Local\\Temp\\ipykernel_21944\\3938600487.py:19: PerformanceWarning: DataFrame is highly fragmented.  This is usually the result of calling `frame.insert` many times, which has poor performance.  Consider joining all columns at once using pd.concat(axis=1) instead. To get a de-fragmented frame, use `newframe = frame.copy()`\n",
      "  df.loc[count, prompts.loc[j, \"Name\"]] = answer\n"
     ]
    },
    {
     "name": "stdout",
     "output_type": "stream",
     "text": [
      "Iteration: 0\n",
      "Prompt name: security_1\n",
      "Success\n",
      "\n"
     ]
    },
    {
     "name": "stderr",
     "output_type": "stream",
     "text": [
      "C:\\Users\\monaj\\AppData\\Local\\Temp\\ipykernel_21944\\3938600487.py:19: PerformanceWarning: DataFrame is highly fragmented.  This is usually the result of calling `frame.insert` many times, which has poor performance.  Consider joining all columns at once using pd.concat(axis=1) instead. To get a de-fragmented frame, use `newframe = frame.copy()`\n",
      "  df.loc[count, prompts.loc[j, \"Name\"]] = answer\n"
     ]
    },
    {
     "name": "stdout",
     "output_type": "stream",
     "text": [
      "Iteration: 0\n",
      "Prompt name: security_2_1\n",
      "Success\n",
      "\n"
     ]
    },
    {
     "name": "stderr",
     "output_type": "stream",
     "text": [
      "C:\\Users\\monaj\\AppData\\Local\\Temp\\ipykernel_21944\\3938600487.py:19: PerformanceWarning: DataFrame is highly fragmented.  This is usually the result of calling `frame.insert` many times, which has poor performance.  Consider joining all columns at once using pd.concat(axis=1) instead. To get a de-fragmented frame, use `newframe = frame.copy()`\n",
      "  df.loc[count, prompts.loc[j, \"Name\"]] = answer\n",
      "C:\\Users\\monaj\\AppData\\Local\\Temp\\ipykernel_21944\\3938600487.py:19: PerformanceWarning: DataFrame is highly fragmented.  This is usually the result of calling `frame.insert` many times, which has poor performance.  Consider joining all columns at once using pd.concat(axis=1) instead. To get a de-fragmented frame, use `newframe = frame.copy()`\n",
      "  df.loc[count, prompts.loc[j, \"Name\"]] = answer\n"
     ]
    },
    {
     "name": "stdout",
     "output_type": "stream",
     "text": [
      "Iteration: 0\n",
      "Prompt name: security_2_2\n",
      "Success\n",
      "\n",
      "Iteration: 0\n",
      "Prompt name: security_2_3\n",
      "Success\n",
      "\n",
      "Iteration: 0\n",
      "Prompt name: security_2_4\n",
      "Error, trying again in 60 seconds\n",
      "Request timed out: HTTPSConnectionPool(host='api.openai.com', port=443): Read timed out. (read timeout=600)\n",
      "\n"
     ]
    },
    {
     "name": "stderr",
     "output_type": "stream",
     "text": [
      "C:\\Users\\monaj\\AppData\\Local\\Temp\\ipykernel_21944\\3938600487.py:19: PerformanceWarning: DataFrame is highly fragmented.  This is usually the result of calling `frame.insert` many times, which has poor performance.  Consider joining all columns at once using pd.concat(axis=1) instead. To get a de-fragmented frame, use `newframe = frame.copy()`\n",
      "  df.loc[count, prompts.loc[j, \"Name\"]] = answer\n"
     ]
    },
    {
     "name": "stdout",
     "output_type": "stream",
     "text": [
      "Iteration: 0\n",
      "Prompt name: security_2_4\n",
      "Success\n",
      "\n"
     ]
    },
    {
     "name": "stderr",
     "output_type": "stream",
     "text": [
      "C:\\Users\\monaj\\AppData\\Local\\Temp\\ipykernel_21944\\3938600487.py:19: PerformanceWarning: DataFrame is highly fragmented.  This is usually the result of calling `frame.insert` many times, which has poor performance.  Consider joining all columns at once using pd.concat(axis=1) instead. To get a de-fragmented frame, use `newframe = frame.copy()`\n",
      "  df.loc[count, prompts.loc[j, \"Name\"]] = answer\n"
     ]
    },
    {
     "name": "stdout",
     "output_type": "stream",
     "text": [
      "Iteration: 0\n",
      "Prompt name: security_2_5\n",
      "Success\n",
      "\n"
     ]
    },
    {
     "name": "stderr",
     "output_type": "stream",
     "text": [
      "C:\\Users\\monaj\\AppData\\Local\\Temp\\ipykernel_21944\\3938600487.py:19: PerformanceWarning: DataFrame is highly fragmented.  This is usually the result of calling `frame.insert` many times, which has poor performance.  Consider joining all columns at once using pd.concat(axis=1) instead. To get a de-fragmented frame, use `newframe = frame.copy()`\n",
      "  df.loc[count, prompts.loc[j, \"Name\"]] = answer\n"
     ]
    },
    {
     "name": "stdout",
     "output_type": "stream",
     "text": [
      "Iteration: 0\n",
      "Prompt name: security_2_6\n",
      "Success\n",
      "\n"
     ]
    },
    {
     "name": "stderr",
     "output_type": "stream",
     "text": [
      "C:\\Users\\monaj\\AppData\\Local\\Temp\\ipykernel_21944\\3938600487.py:19: PerformanceWarning: DataFrame is highly fragmented.  This is usually the result of calling `frame.insert` many times, which has poor performance.  Consider joining all columns at once using pd.concat(axis=1) instead. To get a de-fragmented frame, use `newframe = frame.copy()`\n",
      "  df.loc[count, prompts.loc[j, \"Name\"]] = answer\n"
     ]
    },
    {
     "name": "stdout",
     "output_type": "stream",
     "text": [
      "Iteration: 0\n",
      "Prompt name: security_2_7\n",
      "Success\n",
      "\n"
     ]
    },
    {
     "name": "stderr",
     "output_type": "stream",
     "text": [
      "C:\\Users\\monaj\\AppData\\Local\\Temp\\ipykernel_21944\\3938600487.py:19: PerformanceWarning: DataFrame is highly fragmented.  This is usually the result of calling `frame.insert` many times, which has poor performance.  Consider joining all columns at once using pd.concat(axis=1) instead. To get a de-fragmented frame, use `newframe = frame.copy()`\n",
      "  df.loc[count, prompts.loc[j, \"Name\"]] = answer\n"
     ]
    },
    {
     "name": "stdout",
     "output_type": "stream",
     "text": [
      "Iteration: 0\n",
      "Prompt name: security_3_1\n",
      "Success\n",
      "\n"
     ]
    },
    {
     "name": "stderr",
     "output_type": "stream",
     "text": [
      "C:\\Users\\monaj\\AppData\\Local\\Temp\\ipykernel_21944\\3938600487.py:19: PerformanceWarning: DataFrame is highly fragmented.  This is usually the result of calling `frame.insert` many times, which has poor performance.  Consider joining all columns at once using pd.concat(axis=1) instead. To get a de-fragmented frame, use `newframe = frame.copy()`\n",
      "  df.loc[count, prompts.loc[j, \"Name\"]] = answer\n"
     ]
    },
    {
     "name": "stdout",
     "output_type": "stream",
     "text": [
      "Iteration: 0\n",
      "Prompt name: security_3_2\n",
      "Success\n",
      "\n"
     ]
    },
    {
     "name": "stderr",
     "output_type": "stream",
     "text": [
      "C:\\Users\\monaj\\AppData\\Local\\Temp\\ipykernel_21944\\3938600487.py:19: PerformanceWarning: DataFrame is highly fragmented.  This is usually the result of calling `frame.insert` many times, which has poor performance.  Consider joining all columns at once using pd.concat(axis=1) instead. To get a de-fragmented frame, use `newframe = frame.copy()`\n",
      "  df.loc[count, prompts.loc[j, \"Name\"]] = answer\n"
     ]
    },
    {
     "name": "stdout",
     "output_type": "stream",
     "text": [
      "Iteration: 0\n",
      "Prompt name: security_3_3\n",
      "Success\n",
      "\n"
     ]
    },
    {
     "name": "stderr",
     "output_type": "stream",
     "text": [
      "C:\\Users\\monaj\\AppData\\Local\\Temp\\ipykernel_21944\\3938600487.py:19: PerformanceWarning: DataFrame is highly fragmented.  This is usually the result of calling `frame.insert` many times, which has poor performance.  Consider joining all columns at once using pd.concat(axis=1) instead. To get a de-fragmented frame, use `newframe = frame.copy()`\n",
      "  df.loc[count, prompts.loc[j, \"Name\"]] = answer\n"
     ]
    },
    {
     "name": "stdout",
     "output_type": "stream",
     "text": [
      "Iteration: 0\n",
      "Prompt name: security_4_1\n",
      "Success\n",
      "\n"
     ]
    },
    {
     "name": "stderr",
     "output_type": "stream",
     "text": [
      "C:\\Users\\monaj\\AppData\\Local\\Temp\\ipykernel_21944\\3938600487.py:19: PerformanceWarning: DataFrame is highly fragmented.  This is usually the result of calling `frame.insert` many times, which has poor performance.  Consider joining all columns at once using pd.concat(axis=1) instead. To get a de-fragmented frame, use `newframe = frame.copy()`\n",
      "  df.loc[count, prompts.loc[j, \"Name\"]] = answer\n"
     ]
    },
    {
     "name": "stdout",
     "output_type": "stream",
     "text": [
      "Iteration: 0\n",
      "Prompt name: security_4_2\n",
      "Success\n",
      "\n"
     ]
    },
    {
     "name": "stderr",
     "output_type": "stream",
     "text": [
      "C:\\Users\\monaj\\AppData\\Local\\Temp\\ipykernel_21944\\3938600487.py:19: PerformanceWarning: DataFrame is highly fragmented.  This is usually the result of calling `frame.insert` many times, which has poor performance.  Consider joining all columns at once using pd.concat(axis=1) instead. To get a de-fragmented frame, use `newframe = frame.copy()`\n",
      "  df.loc[count, prompts.loc[j, \"Name\"]] = answer\n"
     ]
    },
    {
     "name": "stdout",
     "output_type": "stream",
     "text": [
      "Iteration: 0\n",
      "Prompt name: security_5_1\n",
      "Success\n",
      "\n"
     ]
    },
    {
     "name": "stderr",
     "output_type": "stream",
     "text": [
      "C:\\Users\\monaj\\AppData\\Local\\Temp\\ipykernel_21944\\3938600487.py:19: PerformanceWarning: DataFrame is highly fragmented.  This is usually the result of calling `frame.insert` many times, which has poor performance.  Consider joining all columns at once using pd.concat(axis=1) instead. To get a de-fragmented frame, use `newframe = frame.copy()`\n",
      "  df.loc[count, prompts.loc[j, \"Name\"]] = answer\n",
      "C:\\Users\\monaj\\AppData\\Local\\Temp\\ipykernel_21944\\3938600487.py:19: PerformanceWarning: DataFrame is highly fragmented.  This is usually the result of calling `frame.insert` many times, which has poor performance.  Consider joining all columns at once using pd.concat(axis=1) instead. To get a de-fragmented frame, use `newframe = frame.copy()`\n",
      "  df.loc[count, prompts.loc[j, \"Name\"]] = answer\n"
     ]
    },
    {
     "name": "stdout",
     "output_type": "stream",
     "text": [
      "Iteration: 0\n",
      "Prompt name: security_5_2\n",
      "Success\n",
      "\n",
      "Iteration: 0\n",
      "Prompt name: security_6_1\n",
      "Success\n",
      "\n"
     ]
    },
    {
     "name": "stderr",
     "output_type": "stream",
     "text": [
      "C:\\Users\\monaj\\AppData\\Local\\Temp\\ipykernel_21944\\3938600487.py:19: PerformanceWarning: DataFrame is highly fragmented.  This is usually the result of calling `frame.insert` many times, which has poor performance.  Consider joining all columns at once using pd.concat(axis=1) instead. To get a de-fragmented frame, use `newframe = frame.copy()`\n",
      "  df.loc[count, prompts.loc[j, \"Name\"]] = answer\n",
      "C:\\Users\\monaj\\AppData\\Local\\Temp\\ipykernel_21944\\3938600487.py:19: PerformanceWarning: DataFrame is highly fragmented.  This is usually the result of calling `frame.insert` many times, which has poor performance.  Consider joining all columns at once using pd.concat(axis=1) instead. To get a de-fragmented frame, use `newframe = frame.copy()`\n",
      "  df.loc[count, prompts.loc[j, \"Name\"]] = answer\n"
     ]
    },
    {
     "name": "stdout",
     "output_type": "stream",
     "text": [
      "Iteration: 0\n",
      "Prompt name: security_6_2\n",
      "Success\n",
      "\n",
      "Iteration: 0\n",
      "Prompt name: security_6_3\n",
      "Success\n",
      "\n"
     ]
    },
    {
     "name": "stderr",
     "output_type": "stream",
     "text": [
      "C:\\Users\\monaj\\AppData\\Local\\Temp\\ipykernel_21944\\3938600487.py:19: PerformanceWarning: DataFrame is highly fragmented.  This is usually the result of calling `frame.insert` many times, which has poor performance.  Consider joining all columns at once using pd.concat(axis=1) instead. To get a de-fragmented frame, use `newframe = frame.copy()`\n",
      "  df.loc[count, prompts.loc[j, \"Name\"]] = answer\n"
     ]
    },
    {
     "name": "stdout",
     "output_type": "stream",
     "text": [
      "Iteration: 0\n",
      "Prompt name: security_7\n",
      "Success\n",
      "\n"
     ]
    },
    {
     "name": "stderr",
     "output_type": "stream",
     "text": [
      "C:\\Users\\monaj\\AppData\\Local\\Temp\\ipykernel_21944\\3938600487.py:19: PerformanceWarning: DataFrame is highly fragmented.  This is usually the result of calling `frame.insert` many times, which has poor performance.  Consider joining all columns at once using pd.concat(axis=1) instead. To get a de-fragmented frame, use `newframe = frame.copy()`\n",
      "  df.loc[count, prompts.loc[j, \"Name\"]] = answer\n"
     ]
    },
    {
     "name": "stdout",
     "output_type": "stream",
     "text": [
      "Iteration: 0\n",
      "Prompt name: security_8\n",
      "Success\n",
      "\n"
     ]
    },
    {
     "name": "stderr",
     "output_type": "stream",
     "text": [
      "C:\\Users\\monaj\\AppData\\Local\\Temp\\ipykernel_21944\\3938600487.py:19: PerformanceWarning: DataFrame is highly fragmented.  This is usually the result of calling `frame.insert` many times, which has poor performance.  Consider joining all columns at once using pd.concat(axis=1) instead. To get a de-fragmented frame, use `newframe = frame.copy()`\n",
      "  df.loc[count, prompts.loc[j, \"Name\"]] = answer\n"
     ]
    },
    {
     "name": "stdout",
     "output_type": "stream",
     "text": [
      "Iteration: 0\n",
      "Prompt name: security_9\n",
      "Success\n",
      "\n",
      "Iteration: 0\n",
      "Prompt name: postmat_1_1\n",
      "Error, trying again in 60 seconds\n",
      "Request timed out: HTTPSConnectionPool(host='api.openai.com', port=443): Read timed out. (read timeout=600)\n",
      "\n"
     ]
    },
    {
     "name": "stderr",
     "output_type": "stream",
     "text": [
      "C:\\Users\\monaj\\AppData\\Local\\Temp\\ipykernel_21944\\3938600487.py:19: PerformanceWarning: DataFrame is highly fragmented.  This is usually the result of calling `frame.insert` many times, which has poor performance.  Consider joining all columns at once using pd.concat(axis=1) instead. To get a de-fragmented frame, use `newframe = frame.copy()`\n",
      "  df.loc[count, prompts.loc[j, \"Name\"]] = answer\n"
     ]
    },
    {
     "name": "stdout",
     "output_type": "stream",
     "text": [
      "Iteration: 0\n",
      "Prompt name: postmat_1_1\n",
      "Success\n",
      "\n"
     ]
    },
    {
     "name": "stderr",
     "output_type": "stream",
     "text": [
      "C:\\Users\\monaj\\AppData\\Local\\Temp\\ipykernel_21944\\3938600487.py:19: PerformanceWarning: DataFrame is highly fragmented.  This is usually the result of calling `frame.insert` many times, which has poor performance.  Consider joining all columns at once using pd.concat(axis=1) instead. To get a de-fragmented frame, use `newframe = frame.copy()`\n",
      "  df.loc[count, prompts.loc[j, \"Name\"]] = answer\n"
     ]
    },
    {
     "name": "stdout",
     "output_type": "stream",
     "text": [
      "Iteration: 0\n",
      "Prompt name: postmat_1_2\n",
      "Success\n",
      "\n"
     ]
    },
    {
     "name": "stderr",
     "output_type": "stream",
     "text": [
      "C:\\Users\\monaj\\AppData\\Local\\Temp\\ipykernel_21944\\3938600487.py:19: PerformanceWarning: DataFrame is highly fragmented.  This is usually the result of calling `frame.insert` many times, which has poor performance.  Consider joining all columns at once using pd.concat(axis=1) instead. To get a de-fragmented frame, use `newframe = frame.copy()`\n",
      "  df.loc[count, prompts.loc[j, \"Name\"]] = answer\n",
      "C:\\Users\\monaj\\AppData\\Local\\Temp\\ipykernel_21944\\3938600487.py:19: PerformanceWarning: DataFrame is highly fragmented.  This is usually the result of calling `frame.insert` many times, which has poor performance.  Consider joining all columns at once using pd.concat(axis=1) instead. To get a de-fragmented frame, use `newframe = frame.copy()`\n",
      "  df.loc[count, prompts.loc[j, \"Name\"]] = answer\n"
     ]
    },
    {
     "name": "stdout",
     "output_type": "stream",
     "text": [
      "Iteration: 0\n",
      "Prompt name: postmat_2_1\n",
      "Success\n",
      "\n",
      "Iteration: 0\n",
      "Prompt name: postmat_2_2\n",
      "Success\n",
      "\n"
     ]
    },
    {
     "name": "stderr",
     "output_type": "stream",
     "text": [
      "C:\\Users\\monaj\\AppData\\Local\\Temp\\ipykernel_21944\\3938600487.py:19: PerformanceWarning: DataFrame is highly fragmented.  This is usually the result of calling `frame.insert` many times, which has poor performance.  Consider joining all columns at once using pd.concat(axis=1) instead. To get a de-fragmented frame, use `newframe = frame.copy()`\n",
      "  df.loc[count, prompts.loc[j, \"Name\"]] = answer\n"
     ]
    },
    {
     "name": "stdout",
     "output_type": "stream",
     "text": [
      "Iteration: 0\n",
      "Prompt name: postmat_3_1\n",
      "Success\n",
      "\n"
     ]
    },
    {
     "name": "stderr",
     "output_type": "stream",
     "text": [
      "C:\\Users\\monaj\\AppData\\Local\\Temp\\ipykernel_21944\\3938600487.py:19: PerformanceWarning: DataFrame is highly fragmented.  This is usually the result of calling `frame.insert` many times, which has poor performance.  Consider joining all columns at once using pd.concat(axis=1) instead. To get a de-fragmented frame, use `newframe = frame.copy()`\n",
      "  df.loc[count, prompts.loc[j, \"Name\"]] = answer\n"
     ]
    },
    {
     "name": "stdout",
     "output_type": "stream",
     "text": [
      "Iteration: 0\n",
      "Prompt name: postmat_3_2\n",
      "Success\n",
      "\n"
     ]
    },
    {
     "name": "stderr",
     "output_type": "stream",
     "text": [
      "C:\\Users\\monaj\\AppData\\Local\\Temp\\ipykernel_21944\\3938600487.py:19: PerformanceWarning: DataFrame is highly fragmented.  This is usually the result of calling `frame.insert` many times, which has poor performance.  Consider joining all columns at once using pd.concat(axis=1) instead. To get a de-fragmented frame, use `newframe = frame.copy()`\n",
      "  df.loc[count, prompts.loc[j, \"Name\"]] = answer\n"
     ]
    },
    {
     "name": "stdout",
     "output_type": "stream",
     "text": [
      "Iteration: 0\n",
      "Prompt name: science_1_1\n",
      "Success\n",
      "\n"
     ]
    },
    {
     "name": "stderr",
     "output_type": "stream",
     "text": [
      "C:\\Users\\monaj\\AppData\\Local\\Temp\\ipykernel_21944\\3938600487.py:19: PerformanceWarning: DataFrame is highly fragmented.  This is usually the result of calling `frame.insert` many times, which has poor performance.  Consider joining all columns at once using pd.concat(axis=1) instead. To get a de-fragmented frame, use `newframe = frame.copy()`\n",
      "  df.loc[count, prompts.loc[j, \"Name\"]] = answer\n"
     ]
    },
    {
     "name": "stdout",
     "output_type": "stream",
     "text": [
      "Iteration: 0\n",
      "Prompt name: science_1_2\n",
      "Success\n",
      "\n"
     ]
    },
    {
     "name": "stderr",
     "output_type": "stream",
     "text": [
      "C:\\Users\\monaj\\AppData\\Local\\Temp\\ipykernel_21944\\3938600487.py:19: PerformanceWarning: DataFrame is highly fragmented.  This is usually the result of calling `frame.insert` many times, which has poor performance.  Consider joining all columns at once using pd.concat(axis=1) instead. To get a de-fragmented frame, use `newframe = frame.copy()`\n",
      "  df.loc[count, prompts.loc[j, \"Name\"]] = answer\n",
      "C:\\Users\\monaj\\AppData\\Local\\Temp\\ipykernel_21944\\3938600487.py:19: PerformanceWarning: DataFrame is highly fragmented.  This is usually the result of calling `frame.insert` many times, which has poor performance.  Consider joining all columns at once using pd.concat(axis=1) instead. To get a de-fragmented frame, use `newframe = frame.copy()`\n",
      "  df.loc[count, prompts.loc[j, \"Name\"]] = answer\n"
     ]
    },
    {
     "name": "stdout",
     "output_type": "stream",
     "text": [
      "Iteration: 0\n",
      "Prompt name: science_1_3\n",
      "Success\n",
      "\n",
      "Iteration: 0\n",
      "Prompt name: science_1_4\n",
      "Success\n",
      "\n"
     ]
    },
    {
     "name": "stderr",
     "output_type": "stream",
     "text": [
      "C:\\Users\\monaj\\AppData\\Local\\Temp\\ipykernel_21944\\3938600487.py:19: PerformanceWarning: DataFrame is highly fragmented.  This is usually the result of calling `frame.insert` many times, which has poor performance.  Consider joining all columns at once using pd.concat(axis=1) instead. To get a de-fragmented frame, use `newframe = frame.copy()`\n",
      "  df.loc[count, prompts.loc[j, \"Name\"]] = answer\n"
     ]
    },
    {
     "name": "stdout",
     "output_type": "stream",
     "text": [
      "Iteration: 0\n",
      "Prompt name: science_1_5\n",
      "Success\n",
      "\n"
     ]
    },
    {
     "name": "stderr",
     "output_type": "stream",
     "text": [
      "C:\\Users\\monaj\\AppData\\Local\\Temp\\ipykernel_21944\\3938600487.py:19: PerformanceWarning: DataFrame is highly fragmented.  This is usually the result of calling `frame.insert` many times, which has poor performance.  Consider joining all columns at once using pd.concat(axis=1) instead. To get a de-fragmented frame, use `newframe = frame.copy()`\n",
      "  df.loc[count, prompts.loc[j, \"Name\"]] = answer\n"
     ]
    },
    {
     "name": "stdout",
     "output_type": "stream",
     "text": [
      "Iteration: 0\n",
      "Prompt name: science_2\n",
      "Success\n",
      "\n"
     ]
    },
    {
     "name": "stderr",
     "output_type": "stream",
     "text": [
      "C:\\Users\\monaj\\AppData\\Local\\Temp\\ipykernel_21944\\3938600487.py:19: PerformanceWarning: DataFrame is highly fragmented.  This is usually the result of calling `frame.insert` many times, which has poor performance.  Consider joining all columns at once using pd.concat(axis=1) instead. To get a de-fragmented frame, use `newframe = frame.copy()`\n",
      "  df.loc[count, prompts.loc[j, \"Name\"]] = answer\n"
     ]
    },
    {
     "name": "stdout",
     "output_type": "stream",
     "text": [
      "Iteration: 0\n",
      "Prompt name: religion_1\n",
      "Success\n",
      "\n"
     ]
    },
    {
     "name": "stderr",
     "output_type": "stream",
     "text": [
      "C:\\Users\\monaj\\AppData\\Local\\Temp\\ipykernel_21944\\3938600487.py:19: PerformanceWarning: DataFrame is highly fragmented.  This is usually the result of calling `frame.insert` many times, which has poor performance.  Consider joining all columns at once using pd.concat(axis=1) instead. To get a de-fragmented frame, use `newframe = frame.copy()`\n",
      "  df.loc[count, prompts.loc[j, \"Name\"]] = answer\n",
      "C:\\Users\\monaj\\AppData\\Local\\Temp\\ipykernel_21944\\3938600487.py:19: PerformanceWarning: DataFrame is highly fragmented.  This is usually the result of calling `frame.insert` many times, which has poor performance.  Consider joining all columns at once using pd.concat(axis=1) instead. To get a de-fragmented frame, use `newframe = frame.copy()`\n",
      "  df.loc[count, prompts.loc[j, \"Name\"]] = answer\n"
     ]
    },
    {
     "name": "stdout",
     "output_type": "stream",
     "text": [
      "Iteration: 0\n",
      "Prompt name: religion_2_1\n",
      "Success\n",
      "\n",
      "Iteration: 0\n",
      "Prompt name: religion_2_2\n",
      "Success\n",
      "\n"
     ]
    },
    {
     "name": "stderr",
     "output_type": "stream",
     "text": [
      "C:\\Users\\monaj\\AppData\\Local\\Temp\\ipykernel_21944\\3938600487.py:19: PerformanceWarning: DataFrame is highly fragmented.  This is usually the result of calling `frame.insert` many times, which has poor performance.  Consider joining all columns at once using pd.concat(axis=1) instead. To get a de-fragmented frame, use `newframe = frame.copy()`\n",
      "  df.loc[count, prompts.loc[j, \"Name\"]] = answer\n",
      "C:\\Users\\monaj\\AppData\\Local\\Temp\\ipykernel_21944\\3938600487.py:19: PerformanceWarning: DataFrame is highly fragmented.  This is usually the result of calling `frame.insert` many times, which has poor performance.  Consider joining all columns at once using pd.concat(axis=1) instead. To get a de-fragmented frame, use `newframe = frame.copy()`\n",
      "  df.loc[count, prompts.loc[j, \"Name\"]] = answer\n"
     ]
    },
    {
     "name": "stdout",
     "output_type": "stream",
     "text": [
      "Iteration: 0\n",
      "Prompt name: religion_2_3\n",
      "Success\n",
      "\n",
      "Iteration: 0\n",
      "Prompt name: religion_2_4\n",
      "Success\n",
      "\n"
     ]
    },
    {
     "name": "stderr",
     "output_type": "stream",
     "text": [
      "C:\\Users\\monaj\\AppData\\Local\\Temp\\ipykernel_21944\\3938600487.py:19: PerformanceWarning: DataFrame is highly fragmented.  This is usually the result of calling `frame.insert` many times, which has poor performance.  Consider joining all columns at once using pd.concat(axis=1) instead. To get a de-fragmented frame, use `newframe = frame.copy()`\n",
      "  df.loc[count, prompts.loc[j, \"Name\"]] = answer\n"
     ]
    },
    {
     "name": "stdout",
     "output_type": "stream",
     "text": [
      "Iteration: 0\n",
      "Prompt name: religion_3_1\n",
      "Success\n",
      "\n"
     ]
    },
    {
     "name": "stderr",
     "output_type": "stream",
     "text": [
      "C:\\Users\\monaj\\AppData\\Local\\Temp\\ipykernel_21944\\3938600487.py:19: PerformanceWarning: DataFrame is highly fragmented.  This is usually the result of calling `frame.insert` many times, which has poor performance.  Consider joining all columns at once using pd.concat(axis=1) instead. To get a de-fragmented frame, use `newframe = frame.copy()`\n",
      "  df.loc[count, prompts.loc[j, \"Name\"]] = answer\n",
      "C:\\Users\\monaj\\AppData\\Local\\Temp\\ipykernel_21944\\3938600487.py:19: PerformanceWarning: DataFrame is highly fragmented.  This is usually the result of calling `frame.insert` many times, which has poor performance.  Consider joining all columns at once using pd.concat(axis=1) instead. To get a de-fragmented frame, use `newframe = frame.copy()`\n",
      "  df.loc[count, prompts.loc[j, \"Name\"]] = answer\n"
     ]
    },
    {
     "name": "stdout",
     "output_type": "stream",
     "text": [
      "Iteration: 0\n",
      "Prompt name: religion_3_2\n",
      "Success\n",
      "\n",
      "Iteration: 0\n",
      "Prompt name: religion_4\n",
      "Success\n",
      "\n"
     ]
    },
    {
     "name": "stderr",
     "output_type": "stream",
     "text": [
      "C:\\Users\\monaj\\AppData\\Local\\Temp\\ipykernel_21944\\3938600487.py:19: PerformanceWarning: DataFrame is highly fragmented.  This is usually the result of calling `frame.insert` many times, which has poor performance.  Consider joining all columns at once using pd.concat(axis=1) instead. To get a de-fragmented frame, use `newframe = frame.copy()`\n",
      "  df.loc[count, prompts.loc[j, \"Name\"]] = answer\n"
     ]
    },
    {
     "name": "stdout",
     "output_type": "stream",
     "text": [
      "Iteration: 0\n",
      "Prompt name: religion_5\n",
      "Success\n",
      "\n"
     ]
    },
    {
     "name": "stderr",
     "output_type": "stream",
     "text": [
      "C:\\Users\\monaj\\AppData\\Local\\Temp\\ipykernel_21944\\3938600487.py:19: PerformanceWarning: DataFrame is highly fragmented.  This is usually the result of calling `frame.insert` many times, which has poor performance.  Consider joining all columns at once using pd.concat(axis=1) instead. To get a de-fragmented frame, use `newframe = frame.copy()`\n",
      "  df.loc[count, prompts.loc[j, \"Name\"]] = answer\n"
     ]
    },
    {
     "name": "stdout",
     "output_type": "stream",
     "text": [
      "Iteration: 0\n",
      "Prompt name: religion_6\n",
      "Success\n",
      "\n"
     ]
    },
    {
     "name": "stderr",
     "output_type": "stream",
     "text": [
      "C:\\Users\\monaj\\AppData\\Local\\Temp\\ipykernel_21944\\3938600487.py:19: PerformanceWarning: DataFrame is highly fragmented.  This is usually the result of calling `frame.insert` many times, which has poor performance.  Consider joining all columns at once using pd.concat(axis=1) instead. To get a de-fragmented frame, use `newframe = frame.copy()`\n",
      "  df.loc[count, prompts.loc[j, \"Name\"]] = answer\n",
      "C:\\Users\\monaj\\AppData\\Local\\Temp\\ipykernel_21944\\3938600487.py:19: PerformanceWarning: DataFrame is highly fragmented.  This is usually the result of calling `frame.insert` many times, which has poor performance.  Consider joining all columns at once using pd.concat(axis=1) instead. To get a de-fragmented frame, use `newframe = frame.copy()`\n",
      "  df.loc[count, prompts.loc[j, \"Name\"]] = answer\n"
     ]
    },
    {
     "name": "stdout",
     "output_type": "stream",
     "text": [
      "Iteration: 0\n",
      "Prompt name: religion_7\n",
      "Success\n",
      "\n",
      "Iteration: 0\n",
      "Prompt name: religion_8\n",
      "Success\n",
      "\n"
     ]
    },
    {
     "name": "stderr",
     "output_type": "stream",
     "text": [
      "C:\\Users\\monaj\\AppData\\Local\\Temp\\ipykernel_21944\\3938600487.py:19: PerformanceWarning: DataFrame is highly fragmented.  This is usually the result of calling `frame.insert` many times, which has poor performance.  Consider joining all columns at once using pd.concat(axis=1) instead. To get a de-fragmented frame, use `newframe = frame.copy()`\n",
      "  df.loc[count, prompts.loc[j, \"Name\"]] = answer\n",
      "C:\\Users\\monaj\\AppData\\Local\\Temp\\ipykernel_21944\\3938600487.py:19: PerformanceWarning: DataFrame is highly fragmented.  This is usually the result of calling `frame.insert` many times, which has poor performance.  Consider joining all columns at once using pd.concat(axis=1) instead. To get a de-fragmented frame, use `newframe = frame.copy()`\n",
      "  df.loc[count, prompts.loc[j, \"Name\"]] = answer\n"
     ]
    },
    {
     "name": "stdout",
     "output_type": "stream",
     "text": [
      "Iteration: 0\n",
      "Prompt name: ethics_1\n",
      "Success\n",
      "\n",
      "Iteration: 0\n",
      "Prompt name: ethics_2_1\n",
      "Success\n",
      "\n"
     ]
    },
    {
     "name": "stderr",
     "output_type": "stream",
     "text": [
      "C:\\Users\\monaj\\AppData\\Local\\Temp\\ipykernel_21944\\3938600487.py:19: PerformanceWarning: DataFrame is highly fragmented.  This is usually the result of calling `frame.insert` many times, which has poor performance.  Consider joining all columns at once using pd.concat(axis=1) instead. To get a de-fragmented frame, use `newframe = frame.copy()`\n",
      "  df.loc[count, prompts.loc[j, \"Name\"]] = answer\n",
      "C:\\Users\\monaj\\AppData\\Local\\Temp\\ipykernel_21944\\3938600487.py:19: PerformanceWarning: DataFrame is highly fragmented.  This is usually the result of calling `frame.insert` many times, which has poor performance.  Consider joining all columns at once using pd.concat(axis=1) instead. To get a de-fragmented frame, use `newframe = frame.copy()`\n",
      "  df.loc[count, prompts.loc[j, \"Name\"]] = answer\n"
     ]
    },
    {
     "name": "stdout",
     "output_type": "stream",
     "text": [
      "Iteration: 0\n",
      "Prompt name: ethics_2_2\n",
      "Success\n",
      "\n",
      "Iteration: 0\n",
      "Prompt name: ethics_2_3\n",
      "Success\n",
      "\n"
     ]
    },
    {
     "name": "stderr",
     "output_type": "stream",
     "text": [
      "C:\\Users\\monaj\\AppData\\Local\\Temp\\ipykernel_21944\\3938600487.py:19: PerformanceWarning: DataFrame is highly fragmented.  This is usually the result of calling `frame.insert` many times, which has poor performance.  Consider joining all columns at once using pd.concat(axis=1) instead. To get a de-fragmented frame, use `newframe = frame.copy()`\n",
      "  df.loc[count, prompts.loc[j, \"Name\"]] = answer\n"
     ]
    },
    {
     "name": "stdout",
     "output_type": "stream",
     "text": [
      "Iteration: 0\n",
      "Prompt name: ethics_2_4\n",
      "Success\n",
      "\n"
     ]
    },
    {
     "name": "stderr",
     "output_type": "stream",
     "text": [
      "C:\\Users\\monaj\\AppData\\Local\\Temp\\ipykernel_21944\\3938600487.py:19: PerformanceWarning: DataFrame is highly fragmented.  This is usually the result of calling `frame.insert` many times, which has poor performance.  Consider joining all columns at once using pd.concat(axis=1) instead. To get a de-fragmented frame, use `newframe = frame.copy()`\n",
      "  df.loc[count, prompts.loc[j, \"Name\"]] = answer\n",
      "C:\\Users\\monaj\\AppData\\Local\\Temp\\ipykernel_21944\\3938600487.py:19: PerformanceWarning: DataFrame is highly fragmented.  This is usually the result of calling `frame.insert` many times, which has poor performance.  Consider joining all columns at once using pd.concat(axis=1) instead. To get a de-fragmented frame, use `newframe = frame.copy()`\n",
      "  df.loc[count, prompts.loc[j, \"Name\"]] = answer\n"
     ]
    },
    {
     "name": "stdout",
     "output_type": "stream",
     "text": [
      "Iteration: 0\n",
      "Prompt name: ethics_2_5\n",
      "Success\n",
      "\n",
      "Iteration: 0\n",
      "Prompt name: ethics_2_6\n",
      "Success\n",
      "\n"
     ]
    },
    {
     "name": "stderr",
     "output_type": "stream",
     "text": [
      "C:\\Users\\monaj\\AppData\\Local\\Temp\\ipykernel_21944\\3938600487.py:19: PerformanceWarning: DataFrame is highly fragmented.  This is usually the result of calling `frame.insert` many times, which has poor performance.  Consider joining all columns at once using pd.concat(axis=1) instead. To get a de-fragmented frame, use `newframe = frame.copy()`\n",
      "  df.loc[count, prompts.loc[j, \"Name\"]] = answer\n",
      "C:\\Users\\monaj\\AppData\\Local\\Temp\\ipykernel_21944\\3938600487.py:19: PerformanceWarning: DataFrame is highly fragmented.  This is usually the result of calling `frame.insert` many times, which has poor performance.  Consider joining all columns at once using pd.concat(axis=1) instead. To get a de-fragmented frame, use `newframe = frame.copy()`\n",
      "  df.loc[count, prompts.loc[j, \"Name\"]] = answer\n"
     ]
    },
    {
     "name": "stdout",
     "output_type": "stream",
     "text": [
      "Iteration: 0\n",
      "Prompt name: ethics_2_7\n",
      "Success\n",
      "\n",
      "Iteration: 0\n",
      "Prompt name: ethics_2_8\n",
      "Success\n",
      "\n"
     ]
    },
    {
     "name": "stderr",
     "output_type": "stream",
     "text": [
      "C:\\Users\\monaj\\AppData\\Local\\Temp\\ipykernel_21944\\3938600487.py:19: PerformanceWarning: DataFrame is highly fragmented.  This is usually the result of calling `frame.insert` many times, which has poor performance.  Consider joining all columns at once using pd.concat(axis=1) instead. To get a de-fragmented frame, use `newframe = frame.copy()`\n",
      "  df.loc[count, prompts.loc[j, \"Name\"]] = answer\n",
      "C:\\Users\\monaj\\AppData\\Local\\Temp\\ipykernel_21944\\3938600487.py:19: PerformanceWarning: DataFrame is highly fragmented.  This is usually the result of calling `frame.insert` many times, which has poor performance.  Consider joining all columns at once using pd.concat(axis=1) instead. To get a de-fragmented frame, use `newframe = frame.copy()`\n",
      "  df.loc[count, prompts.loc[j, \"Name\"]] = answer\n"
     ]
    },
    {
     "name": "stdout",
     "output_type": "stream",
     "text": [
      "Iteration: 0\n",
      "Prompt name: ethics_2_9\n",
      "Success\n",
      "\n",
      "Iteration: 0\n",
      "Prompt name: ethics_2_10\n",
      "Success\n",
      "\n"
     ]
    },
    {
     "name": "stderr",
     "output_type": "stream",
     "text": [
      "C:\\Users\\monaj\\AppData\\Local\\Temp\\ipykernel_21944\\3938600487.py:19: PerformanceWarning: DataFrame is highly fragmented.  This is usually the result of calling `frame.insert` many times, which has poor performance.  Consider joining all columns at once using pd.concat(axis=1) instead. To get a de-fragmented frame, use `newframe = frame.copy()`\n",
      "  df.loc[count, prompts.loc[j, \"Name\"]] = answer\n",
      "C:\\Users\\monaj\\AppData\\Local\\Temp\\ipykernel_21944\\3938600487.py:19: PerformanceWarning: DataFrame is highly fragmented.  This is usually the result of calling `frame.insert` many times, which has poor performance.  Consider joining all columns at once using pd.concat(axis=1) instead. To get a de-fragmented frame, use `newframe = frame.copy()`\n",
      "  df.loc[count, prompts.loc[j, \"Name\"]] = answer\n"
     ]
    },
    {
     "name": "stdout",
     "output_type": "stream",
     "text": [
      "Iteration: 0\n",
      "Prompt name: ethics_2_11\n",
      "Success\n",
      "\n",
      "Iteration: 0\n",
      "Prompt name: ethics_2_12\n",
      "Success\n",
      "\n"
     ]
    },
    {
     "name": "stderr",
     "output_type": "stream",
     "text": [
      "C:\\Users\\monaj\\AppData\\Local\\Temp\\ipykernel_21944\\3938600487.py:19: PerformanceWarning: DataFrame is highly fragmented.  This is usually the result of calling `frame.insert` many times, which has poor performance.  Consider joining all columns at once using pd.concat(axis=1) instead. To get a de-fragmented frame, use `newframe = frame.copy()`\n",
      "  df.loc[count, prompts.loc[j, \"Name\"]] = answer\n"
     ]
    },
    {
     "name": "stdout",
     "output_type": "stream",
     "text": [
      "Iteration: 0\n",
      "Prompt name: ethics_2_13\n",
      "Success\n",
      "\n"
     ]
    },
    {
     "name": "stderr",
     "output_type": "stream",
     "text": [
      "C:\\Users\\monaj\\AppData\\Local\\Temp\\ipykernel_21944\\3938600487.py:19: PerformanceWarning: DataFrame is highly fragmented.  This is usually the result of calling `frame.insert` many times, which has poor performance.  Consider joining all columns at once using pd.concat(axis=1) instead. To get a de-fragmented frame, use `newframe = frame.copy()`\n",
      "  df.loc[count, prompts.loc[j, \"Name\"]] = answer\n"
     ]
    },
    {
     "name": "stdout",
     "output_type": "stream",
     "text": [
      "Iteration: 0\n",
      "Prompt name: ethics_2_14\n",
      "Success\n",
      "\n"
     ]
    },
    {
     "name": "stderr",
     "output_type": "stream",
     "text": [
      "C:\\Users\\monaj\\AppData\\Local\\Temp\\ipykernel_21944\\3938600487.py:19: PerformanceWarning: DataFrame is highly fragmented.  This is usually the result of calling `frame.insert` many times, which has poor performance.  Consider joining all columns at once using pd.concat(axis=1) instead. To get a de-fragmented frame, use `newframe = frame.copy()`\n",
      "  df.loc[count, prompts.loc[j, \"Name\"]] = answer\n",
      "C:\\Users\\monaj\\AppData\\Local\\Temp\\ipykernel_21944\\3938600487.py:19: PerformanceWarning: DataFrame is highly fragmented.  This is usually the result of calling `frame.insert` many times, which has poor performance.  Consider joining all columns at once using pd.concat(axis=1) instead. To get a de-fragmented frame, use `newframe = frame.copy()`\n",
      "  df.loc[count, prompts.loc[j, \"Name\"]] = answer\n"
     ]
    },
    {
     "name": "stdout",
     "output_type": "stream",
     "text": [
      "Iteration: 0\n",
      "Prompt name: ethics_2_15\n",
      "Success\n",
      "\n",
      "Iteration: 0\n",
      "Prompt name: ethics_2_16\n",
      "Success\n",
      "\n"
     ]
    },
    {
     "name": "stderr",
     "output_type": "stream",
     "text": [
      "C:\\Users\\monaj\\AppData\\Local\\Temp\\ipykernel_21944\\3938600487.py:19: PerformanceWarning: DataFrame is highly fragmented.  This is usually the result of calling `frame.insert` many times, which has poor performance.  Consider joining all columns at once using pd.concat(axis=1) instead. To get a de-fragmented frame, use `newframe = frame.copy()`\n",
      "  df.loc[count, prompts.loc[j, \"Name\"]] = answer\n"
     ]
    },
    {
     "name": "stdout",
     "output_type": "stream",
     "text": [
      "Iteration: 0\n",
      "Prompt name: ethics_2_17\n",
      "Success\n",
      "\n"
     ]
    },
    {
     "name": "stderr",
     "output_type": "stream",
     "text": [
      "C:\\Users\\monaj\\AppData\\Local\\Temp\\ipykernel_21944\\3938600487.py:19: PerformanceWarning: DataFrame is highly fragmented.  This is usually the result of calling `frame.insert` many times, which has poor performance.  Consider joining all columns at once using pd.concat(axis=1) instead. To get a de-fragmented frame, use `newframe = frame.copy()`\n",
      "  df.loc[count, prompts.loc[j, \"Name\"]] = answer\n",
      "C:\\Users\\monaj\\AppData\\Local\\Temp\\ipykernel_21944\\3938600487.py:19: PerformanceWarning: DataFrame is highly fragmented.  This is usually the result of calling `frame.insert` many times, which has poor performance.  Consider joining all columns at once using pd.concat(axis=1) instead. To get a de-fragmented frame, use `newframe = frame.copy()`\n",
      "  df.loc[count, prompts.loc[j, \"Name\"]] = answer\n"
     ]
    },
    {
     "name": "stdout",
     "output_type": "stream",
     "text": [
      "Iteration: 0\n",
      "Prompt name: ethics_2_18\n",
      "Success\n",
      "\n",
      "Iteration: 0\n",
      "Prompt name: ethics_2_19\n",
      "Success\n",
      "\n"
     ]
    },
    {
     "name": "stderr",
     "output_type": "stream",
     "text": [
      "C:\\Users\\monaj\\AppData\\Local\\Temp\\ipykernel_21944\\3938600487.py:19: PerformanceWarning: DataFrame is highly fragmented.  This is usually the result of calling `frame.insert` many times, which has poor performance.  Consider joining all columns at once using pd.concat(axis=1) instead. To get a de-fragmented frame, use `newframe = frame.copy()`\n",
      "  df.loc[count, prompts.loc[j, \"Name\"]] = answer\n"
     ]
    },
    {
     "name": "stdout",
     "output_type": "stream",
     "text": [
      "Iteration: 0\n",
      "Prompt name: ethics_3_1\n",
      "Success\n",
      "\n"
     ]
    },
    {
     "name": "stderr",
     "output_type": "stream",
     "text": [
      "C:\\Users\\monaj\\AppData\\Local\\Temp\\ipykernel_21944\\3938600487.py:19: PerformanceWarning: DataFrame is highly fragmented.  This is usually the result of calling `frame.insert` many times, which has poor performance.  Consider joining all columns at once using pd.concat(axis=1) instead. To get a de-fragmented frame, use `newframe = frame.copy()`\n",
      "  df.loc[count, prompts.loc[j, \"Name\"]] = answer\n",
      "C:\\Users\\monaj\\AppData\\Local\\Temp\\ipykernel_21944\\3938600487.py:19: PerformanceWarning: DataFrame is highly fragmented.  This is usually the result of calling `frame.insert` many times, which has poor performance.  Consider joining all columns at once using pd.concat(axis=1) instead. To get a de-fragmented frame, use `newframe = frame.copy()`\n",
      "  df.loc[count, prompts.loc[j, \"Name\"]] = answer\n"
     ]
    },
    {
     "name": "stdout",
     "output_type": "stream",
     "text": [
      "Iteration: 0\n",
      "Prompt name: ethics_3_2\n",
      "Success\n",
      "\n",
      "Iteration: 0\n",
      "Prompt name: ethics_3_3\n",
      "Success\n",
      "\n"
     ]
    },
    {
     "name": "stderr",
     "output_type": "stream",
     "text": [
      "C:\\Users\\monaj\\AppData\\Local\\Temp\\ipykernel_21944\\3938600487.py:19: PerformanceWarning: DataFrame is highly fragmented.  This is usually the result of calling `frame.insert` many times, which has poor performance.  Consider joining all columns at once using pd.concat(axis=1) instead. To get a de-fragmented frame, use `newframe = frame.copy()`\n",
      "  df.loc[count, prompts.loc[j, \"Name\"]] = answer\n",
      "C:\\Users\\monaj\\AppData\\Local\\Temp\\ipykernel_21944\\3938600487.py:19: PerformanceWarning: DataFrame is highly fragmented.  This is usually the result of calling `frame.insert` many times, which has poor performance.  Consider joining all columns at once using pd.concat(axis=1) instead. To get a de-fragmented frame, use `newframe = frame.copy()`\n",
      "  df.loc[count, prompts.loc[j, \"Name\"]] = answer\n"
     ]
    },
    {
     "name": "stdout",
     "output_type": "stream",
     "text": [
      "Iteration: 0\n",
      "Prompt name: political_interest_1\n",
      "Success\n",
      "\n",
      "Iteration: 0\n",
      "Prompt name: political_interest_2\n",
      "Success\n",
      "\n"
     ]
    },
    {
     "name": "stderr",
     "output_type": "stream",
     "text": [
      "C:\\Users\\monaj\\AppData\\Local\\Temp\\ipykernel_21944\\3938600487.py:19: PerformanceWarning: DataFrame is highly fragmented.  This is usually the result of calling `frame.insert` many times, which has poor performance.  Consider joining all columns at once using pd.concat(axis=1) instead. To get a de-fragmented frame, use `newframe = frame.copy()`\n",
      "  df.loc[count, prompts.loc[j, \"Name\"]] = answer\n",
      "C:\\Users\\monaj\\AppData\\Local\\Temp\\ipykernel_21944\\3938600487.py:19: PerformanceWarning: DataFrame is highly fragmented.  This is usually the result of calling `frame.insert` many times, which has poor performance.  Consider joining all columns at once using pd.concat(axis=1) instead. To get a de-fragmented frame, use `newframe = frame.copy()`\n",
      "  df.loc[count, prompts.loc[j, \"Name\"]] = answer\n"
     ]
    },
    {
     "name": "stdout",
     "output_type": "stream",
     "text": [
      "Iteration: 0\n",
      "Prompt name: political_interest_3_1\n",
      "Success\n",
      "\n",
      "Iteration: 0\n",
      "Prompt name: political_interest_3_2\n",
      "Success\n",
      "\n"
     ]
    },
    {
     "name": "stderr",
     "output_type": "stream",
     "text": [
      "C:\\Users\\monaj\\AppData\\Local\\Temp\\ipykernel_21944\\3938600487.py:19: PerformanceWarning: DataFrame is highly fragmented.  This is usually the result of calling `frame.insert` many times, which has poor performance.  Consider joining all columns at once using pd.concat(axis=1) instead. To get a de-fragmented frame, use `newframe = frame.copy()`\n",
      "  df.loc[count, prompts.loc[j, \"Name\"]] = answer\n"
     ]
    },
    {
     "name": "stdout",
     "output_type": "stream",
     "text": [
      "Iteration: 0\n",
      "Prompt name: political_interest_3_3\n",
      "Success\n",
      "\n",
      "Iteration: 0\n",
      "Prompt name: political_interest_3_4\n",
      "Success\n",
      "\n"
     ]
    },
    {
     "name": "stderr",
     "output_type": "stream",
     "text": [
      "C:\\Users\\monaj\\AppData\\Local\\Temp\\ipykernel_21944\\3938600487.py:19: PerformanceWarning: DataFrame is highly fragmented.  This is usually the result of calling `frame.insert` many times, which has poor performance.  Consider joining all columns at once using pd.concat(axis=1) instead. To get a de-fragmented frame, use `newframe = frame.copy()`\n",
      "  df.loc[count, prompts.loc[j, \"Name\"]] = answer\n",
      "C:\\Users\\monaj\\AppData\\Local\\Temp\\ipykernel_21944\\3938600487.py:19: PerformanceWarning: DataFrame is highly fragmented.  This is usually the result of calling `frame.insert` many times, which has poor performance.  Consider joining all columns at once using pd.concat(axis=1) instead. To get a de-fragmented frame, use `newframe = frame.copy()`\n",
      "  df.loc[count, prompts.loc[j, \"Name\"]] = answer\n",
      "C:\\Users\\monaj\\AppData\\Local\\Temp\\ipykernel_21944\\3938600487.py:19: PerformanceWarning: DataFrame is highly fragmented.  This is usually the result of calling `frame.insert` many times, which has poor performance.  Consider joining all columns at once using pd.concat(axis=1) instead. To get a de-fragmented frame, use `newframe = frame.copy()`\n",
      "  df.loc[count, prompts.loc[j, \"Name\"]] = answer\n"
     ]
    },
    {
     "name": "stdout",
     "output_type": "stream",
     "text": [
      "Iteration: 0\n",
      "Prompt name: political_interest_3_5\n",
      "Success\n",
      "\n",
      "Iteration: 0\n",
      "Prompt name: political_interest_3_6\n",
      "Success\n",
      "\n"
     ]
    },
    {
     "name": "stderr",
     "output_type": "stream",
     "text": [
      "C:\\Users\\monaj\\AppData\\Local\\Temp\\ipykernel_21944\\3938600487.py:19: PerformanceWarning: DataFrame is highly fragmented.  This is usually the result of calling `frame.insert` many times, which has poor performance.  Consider joining all columns at once using pd.concat(axis=1) instead. To get a de-fragmented frame, use `newframe = frame.copy()`\n",
      "  df.loc[count, prompts.loc[j, \"Name\"]] = answer\n"
     ]
    },
    {
     "name": "stdout",
     "output_type": "stream",
     "text": [
      "Iteration: 0\n",
      "Prompt name: political_interest_3_7\n",
      "Success\n",
      "\n"
     ]
    },
    {
     "name": "stderr",
     "output_type": "stream",
     "text": [
      "C:\\Users\\monaj\\AppData\\Local\\Temp\\ipykernel_21944\\3938600487.py:19: PerformanceWarning: DataFrame is highly fragmented.  This is usually the result of calling `frame.insert` many times, which has poor performance.  Consider joining all columns at once using pd.concat(axis=1) instead. To get a de-fragmented frame, use `newframe = frame.copy()`\n",
      "  df.loc[count, prompts.loc[j, \"Name\"]] = answer\n"
     ]
    },
    {
     "name": "stdout",
     "output_type": "stream",
     "text": [
      "Iteration: 0\n",
      "Prompt name: political_interest_3_8\n",
      "Success\n",
      "\n"
     ]
    },
    {
     "name": "stderr",
     "output_type": "stream",
     "text": [
      "C:\\Users\\monaj\\AppData\\Local\\Temp\\ipykernel_21944\\3938600487.py:19: PerformanceWarning: DataFrame is highly fragmented.  This is usually the result of calling `frame.insert` many times, which has poor performance.  Consider joining all columns at once using pd.concat(axis=1) instead. To get a de-fragmented frame, use `newframe = frame.copy()`\n",
      "  df.loc[count, prompts.loc[j, \"Name\"]] = answer\n"
     ]
    },
    {
     "name": "stdout",
     "output_type": "stream",
     "text": [
      "Iteration: 0\n",
      "Prompt name: political_interest_4_1\n",
      "Success\n",
      "\n"
     ]
    },
    {
     "name": "stderr",
     "output_type": "stream",
     "text": [
      "C:\\Users\\monaj\\AppData\\Local\\Temp\\ipykernel_21944\\3938600487.py:19: PerformanceWarning: DataFrame is highly fragmented.  This is usually the result of calling `frame.insert` many times, which has poor performance.  Consider joining all columns at once using pd.concat(axis=1) instead. To get a de-fragmented frame, use `newframe = frame.copy()`\n",
      "  df.loc[count, prompts.loc[j, \"Name\"]] = answer\n",
      "C:\\Users\\monaj\\AppData\\Local\\Temp\\ipykernel_21944\\3938600487.py:19: PerformanceWarning: DataFrame is highly fragmented.  This is usually the result of calling `frame.insert` many times, which has poor performance.  Consider joining all columns at once using pd.concat(axis=1) instead. To get a de-fragmented frame, use `newframe = frame.copy()`\n",
      "  df.loc[count, prompts.loc[j, \"Name\"]] = answer\n"
     ]
    },
    {
     "name": "stdout",
     "output_type": "stream",
     "text": [
      "Iteration: 0\n",
      "Prompt name: political_interest_4_2\n",
      "Success\n",
      "\n",
      "Iteration: 0\n",
      "Prompt name: political_interest_4_3\n",
      "Success\n",
      "\n"
     ]
    },
    {
     "name": "stderr",
     "output_type": "stream",
     "text": [
      "C:\\Users\\monaj\\AppData\\Local\\Temp\\ipykernel_21944\\3938600487.py:19: PerformanceWarning: DataFrame is highly fragmented.  This is usually the result of calling `frame.insert` many times, which has poor performance.  Consider joining all columns at once using pd.concat(axis=1) instead. To get a de-fragmented frame, use `newframe = frame.copy()`\n",
      "  df.loc[count, prompts.loc[j, \"Name\"]] = answer\n",
      "C:\\Users\\monaj\\AppData\\Local\\Temp\\ipykernel_21944\\3938600487.py:19: PerformanceWarning: DataFrame is highly fragmented.  This is usually the result of calling `frame.insert` many times, which has poor performance.  Consider joining all columns at once using pd.concat(axis=1) instead. To get a de-fragmented frame, use `newframe = frame.copy()`\n",
      "  df.loc[count, prompts.loc[j, \"Name\"]] = answer\n"
     ]
    },
    {
     "name": "stdout",
     "output_type": "stream",
     "text": [
      "Iteration: 0\n",
      "Prompt name: political_interest_4_4\n",
      "Success\n",
      "\n",
      "Iteration: 0\n",
      "Prompt name: political_interest_5_1\n",
      "Success\n",
      "\n"
     ]
    },
    {
     "name": "stderr",
     "output_type": "stream",
     "text": [
      "C:\\Users\\monaj\\AppData\\Local\\Temp\\ipykernel_21944\\3938600487.py:19: PerformanceWarning: DataFrame is highly fragmented.  This is usually the result of calling `frame.insert` many times, which has poor performance.  Consider joining all columns at once using pd.concat(axis=1) instead. To get a de-fragmented frame, use `newframe = frame.copy()`\n",
      "  df.loc[count, prompts.loc[j, \"Name\"]] = answer\n",
      "C:\\Users\\monaj\\AppData\\Local\\Temp\\ipykernel_21944\\3938600487.py:19: PerformanceWarning: DataFrame is highly fragmented.  This is usually the result of calling `frame.insert` many times, which has poor performance.  Consider joining all columns at once using pd.concat(axis=1) instead. To get a de-fragmented frame, use `newframe = frame.copy()`\n",
      "  df.loc[count, prompts.loc[j, \"Name\"]] = answer\n"
     ]
    },
    {
     "name": "stdout",
     "output_type": "stream",
     "text": [
      "Iteration: 0\n",
      "Prompt name: political_interest_5_2\n",
      "Success\n",
      "\n",
      "Iteration: 0\n",
      "Prompt name: political_interest_5_3\n",
      "Success\n",
      "\n"
     ]
    },
    {
     "name": "stderr",
     "output_type": "stream",
     "text": [
      "C:\\Users\\monaj\\AppData\\Local\\Temp\\ipykernel_21944\\3938600487.py:19: PerformanceWarning: DataFrame is highly fragmented.  This is usually the result of calling `frame.insert` many times, which has poor performance.  Consider joining all columns at once using pd.concat(axis=1) instead. To get a de-fragmented frame, use `newframe = frame.copy()`\n",
      "  df.loc[count, prompts.loc[j, \"Name\"]] = answer\n"
     ]
    },
    {
     "name": "stdout",
     "output_type": "stream",
     "text": [
      "Iteration: 0\n",
      "Prompt name: political_interest_5_4\n",
      "Success\n",
      "\n"
     ]
    },
    {
     "name": "stderr",
     "output_type": "stream",
     "text": [
      "C:\\Users\\monaj\\AppData\\Local\\Temp\\ipykernel_21944\\3938600487.py:19: PerformanceWarning: DataFrame is highly fragmented.  This is usually the result of calling `frame.insert` many times, which has poor performance.  Consider joining all columns at once using pd.concat(axis=1) instead. To get a de-fragmented frame, use `newframe = frame.copy()`\n",
      "  df.loc[count, prompts.loc[j, \"Name\"]] = answer\n",
      "C:\\Users\\monaj\\AppData\\Local\\Temp\\ipykernel_21944\\3938600487.py:19: PerformanceWarning: DataFrame is highly fragmented.  This is usually the result of calling `frame.insert` many times, which has poor performance.  Consider joining all columns at once using pd.concat(axis=1) instead. To get a de-fragmented frame, use `newframe = frame.copy()`\n",
      "  df.loc[count, prompts.loc[j, \"Name\"]] = answer\n"
     ]
    },
    {
     "name": "stdout",
     "output_type": "stream",
     "text": [
      "Iteration: 0\n",
      "Prompt name: political_interest_6_1\n",
      "Success\n",
      "\n",
      "Iteration: 0\n",
      "Prompt name: political_interest_6_2\n",
      "Success\n",
      "\n"
     ]
    },
    {
     "name": "stderr",
     "output_type": "stream",
     "text": [
      "C:\\Users\\monaj\\AppData\\Local\\Temp\\ipykernel_21944\\3938600487.py:19: PerformanceWarning: DataFrame is highly fragmented.  This is usually the result of calling `frame.insert` many times, which has poor performance.  Consider joining all columns at once using pd.concat(axis=1) instead. To get a de-fragmented frame, use `newframe = frame.copy()`\n",
      "  df.loc[count, prompts.loc[j, \"Name\"]] = answer\n"
     ]
    },
    {
     "name": "stdout",
     "output_type": "stream",
     "text": [
      "Iteration: 0\n",
      "Prompt name: political_interest_6_3\n",
      "Success\n",
      "\n"
     ]
    },
    {
     "name": "stderr",
     "output_type": "stream",
     "text": [
      "C:\\Users\\monaj\\AppData\\Local\\Temp\\ipykernel_21944\\3938600487.py:19: PerformanceWarning: DataFrame is highly fragmented.  This is usually the result of calling `frame.insert` many times, which has poor performance.  Consider joining all columns at once using pd.concat(axis=1) instead. To get a de-fragmented frame, use `newframe = frame.copy()`\n",
      "  df.loc[count, prompts.loc[j, \"Name\"]] = answer\n"
     ]
    },
    {
     "name": "stdout",
     "output_type": "stream",
     "text": [
      "Iteration: 0\n",
      "Prompt name: political_interest_6_4\n",
      "Success\n",
      "\n"
     ]
    },
    {
     "name": "stderr",
     "output_type": "stream",
     "text": [
      "C:\\Users\\monaj\\AppData\\Local\\Temp\\ipykernel_21944\\3938600487.py:19: PerformanceWarning: DataFrame is highly fragmented.  This is usually the result of calling `frame.insert` many times, which has poor performance.  Consider joining all columns at once using pd.concat(axis=1) instead. To get a de-fragmented frame, use `newframe = frame.copy()`\n",
      "  df.loc[count, prompts.loc[j, \"Name\"]] = answer\n"
     ]
    },
    {
     "name": "stdout",
     "output_type": "stream",
     "text": [
      "Iteration: 0\n",
      "Prompt name: political_interest_7_1\n",
      "Success\n",
      "\n"
     ]
    },
    {
     "name": "stderr",
     "output_type": "stream",
     "text": [
      "C:\\Users\\monaj\\AppData\\Local\\Temp\\ipykernel_21944\\3938600487.py:19: PerformanceWarning: DataFrame is highly fragmented.  This is usually the result of calling `frame.insert` many times, which has poor performance.  Consider joining all columns at once using pd.concat(axis=1) instead. To get a de-fragmented frame, use `newframe = frame.copy()`\n",
      "  df.loc[count, prompts.loc[j, \"Name\"]] = answer\n",
      "C:\\Users\\monaj\\AppData\\Local\\Temp\\ipykernel_21944\\3938600487.py:19: PerformanceWarning: DataFrame is highly fragmented.  This is usually the result of calling `frame.insert` many times, which has poor performance.  Consider joining all columns at once using pd.concat(axis=1) instead. To get a de-fragmented frame, use `newframe = frame.copy()`\n",
      "  df.loc[count, prompts.loc[j, \"Name\"]] = answer\n"
     ]
    },
    {
     "name": "stdout",
     "output_type": "stream",
     "text": [
      "Iteration: 0\n",
      "Prompt name: political_interest_7_2\n",
      "Success\n",
      "\n",
      "Iteration: 0\n",
      "Prompt name: political_interest_8_1\n",
      "Success\n",
      "\n"
     ]
    },
    {
     "name": "stderr",
     "output_type": "stream",
     "text": [
      "C:\\Users\\monaj\\AppData\\Local\\Temp\\ipykernel_21944\\3938600487.py:19: PerformanceWarning: DataFrame is highly fragmented.  This is usually the result of calling `frame.insert` many times, which has poor performance.  Consider joining all columns at once using pd.concat(axis=1) instead. To get a de-fragmented frame, use `newframe = frame.copy()`\n",
      "  df.loc[count, prompts.loc[j, \"Name\"]] = answer\n",
      "C:\\Users\\monaj\\AppData\\Local\\Temp\\ipykernel_21944\\3938600487.py:19: PerformanceWarning: DataFrame is highly fragmented.  This is usually the result of calling `frame.insert` many times, which has poor performance.  Consider joining all columns at once using pd.concat(axis=1) instead. To get a de-fragmented frame, use `newframe = frame.copy()`\n",
      "  df.loc[count, prompts.loc[j, \"Name\"]] = answer\n"
     ]
    },
    {
     "name": "stdout",
     "output_type": "stream",
     "text": [
      "Iteration: 0\n",
      "Prompt name: political_interest_8_2\n",
      "Success\n",
      "\n",
      "Iteration: 0\n",
      "Prompt name: political_interest_8_3\n",
      "Success\n",
      "\n"
     ]
    },
    {
     "name": "stderr",
     "output_type": "stream",
     "text": [
      "C:\\Users\\monaj\\AppData\\Local\\Temp\\ipykernel_21944\\3938600487.py:19: PerformanceWarning: DataFrame is highly fragmented.  This is usually the result of calling `frame.insert` many times, which has poor performance.  Consider joining all columns at once using pd.concat(axis=1) instead. To get a de-fragmented frame, use `newframe = frame.copy()`\n",
      "  df.loc[count, prompts.loc[j, \"Name\"]] = answer\n"
     ]
    },
    {
     "name": "stdout",
     "output_type": "stream",
     "text": [
      "Iteration: 0\n",
      "Prompt name: political_interest_8_4\n",
      "Success\n",
      "\n"
     ]
    },
    {
     "name": "stderr",
     "output_type": "stream",
     "text": [
      "C:\\Users\\monaj\\AppData\\Local\\Temp\\ipykernel_21944\\3938600487.py:19: PerformanceWarning: DataFrame is highly fragmented.  This is usually the result of calling `frame.insert` many times, which has poor performance.  Consider joining all columns at once using pd.concat(axis=1) instead. To get a de-fragmented frame, use `newframe = frame.copy()`\n",
      "  df.loc[count, prompts.loc[j, \"Name\"]] = answer\n"
     ]
    },
    {
     "name": "stdout",
     "output_type": "stream",
     "text": [
      "Iteration: 0\n",
      "Prompt name: political_interest_8_5\n",
      "Success\n",
      "\n"
     ]
    },
    {
     "name": "stderr",
     "output_type": "stream",
     "text": [
      "C:\\Users\\monaj\\AppData\\Local\\Temp\\ipykernel_21944\\3938600487.py:19: PerformanceWarning: DataFrame is highly fragmented.  This is usually the result of calling `frame.insert` many times, which has poor performance.  Consider joining all columns at once using pd.concat(axis=1) instead. To get a de-fragmented frame, use `newframe = frame.copy()`\n",
      "  df.loc[count, prompts.loc[j, \"Name\"]] = answer\n",
      "C:\\Users\\monaj\\AppData\\Local\\Temp\\ipykernel_21944\\3938600487.py:19: PerformanceWarning: DataFrame is highly fragmented.  This is usually the result of calling `frame.insert` many times, which has poor performance.  Consider joining all columns at once using pd.concat(axis=1) instead. To get a de-fragmented frame, use `newframe = frame.copy()`\n",
      "  df.loc[count, prompts.loc[j, \"Name\"]] = answer\n"
     ]
    },
    {
     "name": "stdout",
     "output_type": "stream",
     "text": [
      "Iteration: 0\n",
      "Prompt name: political_interest_8_6\n",
      "Success\n",
      "\n",
      "Iteration: 0\n",
      "Prompt name: political_interest_8_7\n",
      "Success\n",
      "\n"
     ]
    },
    {
     "name": "stderr",
     "output_type": "stream",
     "text": [
      "C:\\Users\\monaj\\AppData\\Local\\Temp\\ipykernel_21944\\3938600487.py:19: PerformanceWarning: DataFrame is highly fragmented.  This is usually the result of calling `frame.insert` many times, which has poor performance.  Consider joining all columns at once using pd.concat(axis=1) instead. To get a de-fragmented frame, use `newframe = frame.copy()`\n",
      "  df.loc[count, prompts.loc[j, \"Name\"]] = answer\n"
     ]
    },
    {
     "name": "stdout",
     "output_type": "stream",
     "text": [
      "Iteration: 0\n",
      "Prompt name: political_interest_8_8\n",
      "Success\n",
      "\n"
     ]
    },
    {
     "name": "stderr",
     "output_type": "stream",
     "text": [
      "C:\\Users\\monaj\\AppData\\Local\\Temp\\ipykernel_21944\\3938600487.py:19: PerformanceWarning: DataFrame is highly fragmented.  This is usually the result of calling `frame.insert` many times, which has poor performance.  Consider joining all columns at once using pd.concat(axis=1) instead. To get a de-fragmented frame, use `newframe = frame.copy()`\n",
      "  df.loc[count, prompts.loc[j, \"Name\"]] = answer\n",
      "C:\\Users\\monaj\\AppData\\Local\\Temp\\ipykernel_21944\\3938600487.py:19: PerformanceWarning: DataFrame is highly fragmented.  This is usually the result of calling `frame.insert` many times, which has poor performance.  Consider joining all columns at once using pd.concat(axis=1) instead. To get a de-fragmented frame, use `newframe = frame.copy()`\n",
      "  df.loc[count, prompts.loc[j, \"Name\"]] = answer\n"
     ]
    },
    {
     "name": "stdout",
     "output_type": "stream",
     "text": [
      "Iteration: 0\n",
      "Prompt name: political_interest_8_9\n",
      "Success\n",
      "\n",
      "Iteration: 0\n",
      "Prompt name: political_interest_8_10\n",
      "Success\n",
      "\n"
     ]
    },
    {
     "name": "stderr",
     "output_type": "stream",
     "text": [
      "C:\\Users\\monaj\\AppData\\Local\\Temp\\ipykernel_21944\\3938600487.py:19: PerformanceWarning: DataFrame is highly fragmented.  This is usually the result of calling `frame.insert` many times, which has poor performance.  Consider joining all columns at once using pd.concat(axis=1) instead. To get a de-fragmented frame, use `newframe = frame.copy()`\n",
      "  df.loc[count, prompts.loc[j, \"Name\"]] = answer\n",
      "C:\\Users\\monaj\\AppData\\Local\\Temp\\ipykernel_21944\\3938600487.py:19: PerformanceWarning: DataFrame is highly fragmented.  This is usually the result of calling `frame.insert` many times, which has poor performance.  Consider joining all columns at once using pd.concat(axis=1) instead. To get a de-fragmented frame, use `newframe = frame.copy()`\n",
      "  df.loc[count, prompts.loc[j, \"Name\"]] = answer\n"
     ]
    },
    {
     "name": "stdout",
     "output_type": "stream",
     "text": [
      "Iteration: 0\n",
      "Prompt name: political_interest_9\n",
      "Success\n",
      "\n",
      "Iteration: 0\n",
      "Prompt name: political_interest_10\n",
      "Success\n",
      "\n"
     ]
    },
    {
     "name": "stderr",
     "output_type": "stream",
     "text": [
      "C:\\Users\\monaj\\AppData\\Local\\Temp\\ipykernel_21944\\3938600487.py:19: PerformanceWarning: DataFrame is highly fragmented.  This is usually the result of calling `frame.insert` many times, which has poor performance.  Consider joining all columns at once using pd.concat(axis=1) instead. To get a de-fragmented frame, use `newframe = frame.copy()`\n",
      "  df.loc[count, prompts.loc[j, \"Name\"]] = answer\n",
      "C:\\Users\\monaj\\AppData\\Local\\Temp\\ipykernel_21944\\3938600487.py:19: PerformanceWarning: DataFrame is highly fragmented.  This is usually the result of calling `frame.insert` many times, which has poor performance.  Consider joining all columns at once using pd.concat(axis=1) instead. To get a de-fragmented frame, use `newframe = frame.copy()`\n",
      "  df.loc[count, prompts.loc[j, \"Name\"]] = answer\n"
     ]
    },
    {
     "name": "stdout",
     "output_type": "stream",
     "text": [
      "Iteration: 0\n",
      "Prompt name: political_culture_1_1\n",
      "Success\n",
      "\n",
      "Iteration: 0\n",
      "Prompt name: political_culture_1_2\n",
      "Success\n",
      "\n"
     ]
    },
    {
     "name": "stderr",
     "output_type": "stream",
     "text": [
      "C:\\Users\\monaj\\AppData\\Local\\Temp\\ipykernel_21944\\3938600487.py:19: PerformanceWarning: DataFrame is highly fragmented.  This is usually the result of calling `frame.insert` many times, which has poor performance.  Consider joining all columns at once using pd.concat(axis=1) instead. To get a de-fragmented frame, use `newframe = frame.copy()`\n",
      "  df.loc[count, prompts.loc[j, \"Name\"]] = answer\n"
     ]
    },
    {
     "name": "stdout",
     "output_type": "stream",
     "text": [
      "Iteration: 0\n",
      "Prompt name: political_culture_1_3\n",
      "Success\n",
      "\n"
     ]
    },
    {
     "name": "stderr",
     "output_type": "stream",
     "text": [
      "C:\\Users\\monaj\\AppData\\Local\\Temp\\ipykernel_21944\\3938600487.py:19: PerformanceWarning: DataFrame is highly fragmented.  This is usually the result of calling `frame.insert` many times, which has poor performance.  Consider joining all columns at once using pd.concat(axis=1) instead. To get a de-fragmented frame, use `newframe = frame.copy()`\n",
      "  df.loc[count, prompts.loc[j, \"Name\"]] = answer\n",
      "C:\\Users\\monaj\\AppData\\Local\\Temp\\ipykernel_21944\\3938600487.py:19: PerformanceWarning: DataFrame is highly fragmented.  This is usually the result of calling `frame.insert` many times, which has poor performance.  Consider joining all columns at once using pd.concat(axis=1) instead. To get a de-fragmented frame, use `newframe = frame.copy()`\n",
      "  df.loc[count, prompts.loc[j, \"Name\"]] = answer\n"
     ]
    },
    {
     "name": "stdout",
     "output_type": "stream",
     "text": [
      "Iteration: 0\n",
      "Prompt name: political_culture_1_4\n",
      "Success\n",
      "\n",
      "Iteration: 0\n",
      "Prompt name: political_culture_1_5\n",
      "Success\n",
      "\n"
     ]
    },
    {
     "name": "stderr",
     "output_type": "stream",
     "text": [
      "C:\\Users\\monaj\\AppData\\Local\\Temp\\ipykernel_21944\\3938600487.py:19: PerformanceWarning: DataFrame is highly fragmented.  This is usually the result of calling `frame.insert` many times, which has poor performance.  Consider joining all columns at once using pd.concat(axis=1) instead. To get a de-fragmented frame, use `newframe = frame.copy()`\n",
      "  df.loc[count, prompts.loc[j, \"Name\"]] = answer\n"
     ]
    },
    {
     "name": "stdout",
     "output_type": "stream",
     "text": [
      "Iteration: 0\n",
      "Prompt name: political_culture_2\n",
      "Success\n",
      "\n"
     ]
    },
    {
     "name": "stderr",
     "output_type": "stream",
     "text": [
      "C:\\Users\\monaj\\AppData\\Local\\Temp\\ipykernel_21944\\3938600487.py:19: PerformanceWarning: DataFrame is highly fragmented.  This is usually the result of calling `frame.insert` many times, which has poor performance.  Consider joining all columns at once using pd.concat(axis=1) instead. To get a de-fragmented frame, use `newframe = frame.copy()`\n",
      "  df.loc[count, prompts.loc[j, \"Name\"]] = answer\n",
      "C:\\Users\\monaj\\AppData\\Local\\Temp\\ipykernel_21944\\3938600487.py:19: PerformanceWarning: DataFrame is highly fragmented.  This is usually the result of calling `frame.insert` many times, which has poor performance.  Consider joining all columns at once using pd.concat(axis=1) instead. To get a de-fragmented frame, use `newframe = frame.copy()`\n",
      "  df.loc[count, prompts.loc[j, \"Name\"]] = answer\n"
     ]
    },
    {
     "name": "stdout",
     "output_type": "stream",
     "text": [
      "Iteration: 0\n",
      "Prompt name: political_culture_3_1\n",
      "Success\n",
      "\n",
      "Iteration: 0\n",
      "Prompt name: political_culture_3_2\n",
      "Success\n",
      "\n"
     ]
    },
    {
     "name": "stderr",
     "output_type": "stream",
     "text": [
      "C:\\Users\\monaj\\AppData\\Local\\Temp\\ipykernel_21944\\3938600487.py:19: PerformanceWarning: DataFrame is highly fragmented.  This is usually the result of calling `frame.insert` many times, which has poor performance.  Consider joining all columns at once using pd.concat(axis=1) instead. To get a de-fragmented frame, use `newframe = frame.copy()`\n",
      "  df.loc[count, prompts.loc[j, \"Name\"]] = answer\n"
     ]
    },
    {
     "name": "stdout",
     "output_type": "stream",
     "text": [
      "Iteration: 0\n",
      "Prompt name: political_culture_3_3\n",
      "Success\n",
      "\n"
     ]
    },
    {
     "name": "stderr",
     "output_type": "stream",
     "text": [
      "C:\\Users\\monaj\\AppData\\Local\\Temp\\ipykernel_21944\\3938600487.py:19: PerformanceWarning: DataFrame is highly fragmented.  This is usually the result of calling `frame.insert` many times, which has poor performance.  Consider joining all columns at once using pd.concat(axis=1) instead. To get a de-fragmented frame, use `newframe = frame.copy()`\n",
      "  df.loc[count, prompts.loc[j, \"Name\"]] = answer\n",
      "C:\\Users\\monaj\\AppData\\Local\\Temp\\ipykernel_21944\\3938600487.py:19: PerformanceWarning: DataFrame is highly fragmented.  This is usually the result of calling `frame.insert` many times, which has poor performance.  Consider joining all columns at once using pd.concat(axis=1) instead. To get a de-fragmented frame, use `newframe = frame.copy()`\n",
      "  df.loc[count, prompts.loc[j, \"Name\"]] = answer\n"
     ]
    },
    {
     "name": "stdout",
     "output_type": "stream",
     "text": [
      "Iteration: 0\n",
      "Prompt name: political_culture_3_4\n",
      "Success\n",
      "\n",
      "Iteration: 0\n",
      "Prompt name: political_culture_3_5\n",
      "Success\n",
      "\n"
     ]
    },
    {
     "name": "stderr",
     "output_type": "stream",
     "text": [
      "C:\\Users\\monaj\\AppData\\Local\\Temp\\ipykernel_21944\\3938600487.py:19: PerformanceWarning: DataFrame is highly fragmented.  This is usually the result of calling `frame.insert` many times, which has poor performance.  Consider joining all columns at once using pd.concat(axis=1) instead. To get a de-fragmented frame, use `newframe = frame.copy()`\n",
      "  df.loc[count, prompts.loc[j, \"Name\"]] = answer\n",
      "C:\\Users\\monaj\\AppData\\Local\\Temp\\ipykernel_21944\\3938600487.py:19: PerformanceWarning: DataFrame is highly fragmented.  This is usually the result of calling `frame.insert` many times, which has poor performance.  Consider joining all columns at once using pd.concat(axis=1) instead. To get a de-fragmented frame, use `newframe = frame.copy()`\n",
      "  df.loc[count, prompts.loc[j, \"Name\"]] = answer\n"
     ]
    },
    {
     "name": "stdout",
     "output_type": "stream",
     "text": [
      "Iteration: 0\n",
      "Prompt name: political_culture_3_6\n",
      "Success\n",
      "\n",
      "Iteration: 0\n",
      "Prompt name: political_culture_3_7\n",
      "Success\n",
      "\n"
     ]
    },
    {
     "name": "stderr",
     "output_type": "stream",
     "text": [
      "C:\\Users\\monaj\\AppData\\Local\\Temp\\ipykernel_21944\\3938600487.py:19: PerformanceWarning: DataFrame is highly fragmented.  This is usually the result of calling `frame.insert` many times, which has poor performance.  Consider joining all columns at once using pd.concat(axis=1) instead. To get a de-fragmented frame, use `newframe = frame.copy()`\n",
      "  df.loc[count, prompts.loc[j, \"Name\"]] = answer\n",
      "C:\\Users\\monaj\\AppData\\Local\\Temp\\ipykernel_21944\\3938600487.py:19: PerformanceWarning: DataFrame is highly fragmented.  This is usually the result of calling `frame.insert` many times, which has poor performance.  Consider joining all columns at once using pd.concat(axis=1) instead. To get a de-fragmented frame, use `newframe = frame.copy()`\n",
      "  df.loc[count, prompts.loc[j, \"Name\"]] = answer\n"
     ]
    },
    {
     "name": "stdout",
     "output_type": "stream",
     "text": [
      "Iteration: 0\n",
      "Prompt name: political_culture_3_8\n",
      "Success\n",
      "\n",
      "Iteration: 0\n",
      "Prompt name: political_culture_3_9\n",
      "Success\n",
      "\n"
     ]
    },
    {
     "name": "stderr",
     "output_type": "stream",
     "text": [
      "C:\\Users\\monaj\\AppData\\Local\\Temp\\ipykernel_21944\\3938600487.py:19: PerformanceWarning: DataFrame is highly fragmented.  This is usually the result of calling `frame.insert` many times, which has poor performance.  Consider joining all columns at once using pd.concat(axis=1) instead. To get a de-fragmented frame, use `newframe = frame.copy()`\n",
      "  df.loc[count, prompts.loc[j, \"Name\"]] = answer\n",
      "C:\\Users\\monaj\\AppData\\Local\\Temp\\ipykernel_21944\\3938600487.py:19: PerformanceWarning: DataFrame is highly fragmented.  This is usually the result of calling `frame.insert` many times, which has poor performance.  Consider joining all columns at once using pd.concat(axis=1) instead. To get a de-fragmented frame, use `newframe = frame.copy()`\n",
      "  df.loc[count, prompts.loc[j, \"Name\"]] = answer\n"
     ]
    },
    {
     "name": "stdout",
     "output_type": "stream",
     "text": [
      "Iteration: 0\n",
      "Prompt name: political_culture_4\n",
      "Success\n",
      "\n",
      "Iteration: 0\n",
      "Prompt name: political_culture_5\n",
      "Success\n",
      "\n"
     ]
    },
    {
     "name": "stderr",
     "output_type": "stream",
     "text": [
      "C:\\Users\\monaj\\AppData\\Local\\Temp\\ipykernel_21944\\3938600487.py:19: PerformanceWarning: DataFrame is highly fragmented.  This is usually the result of calling `frame.insert` many times, which has poor performance.  Consider joining all columns at once using pd.concat(axis=1) instead. To get a de-fragmented frame, use `newframe = frame.copy()`\n",
      "  df.loc[count, prompts.loc[j, \"Name\"]] = answer\n"
     ]
    },
    {
     "name": "stdout",
     "output_type": "stream",
     "text": [
      "Iteration: 0\n",
      "Prompt name: political_culture_6\n",
      "Success\n",
      "\n"
     ]
    },
    {
     "name": "stderr",
     "output_type": "stream",
     "text": [
      "C:\\Users\\monaj\\AppData\\Local\\Temp\\ipykernel_21944\\3938600487.py:19: PerformanceWarning: DataFrame is highly fragmented.  This is usually the result of calling `frame.insert` many times, which has poor performance.  Consider joining all columns at once using pd.concat(axis=1) instead. To get a de-fragmented frame, use `newframe = frame.copy()`\n",
      "  df.loc[count, prompts.loc[j, \"Name\"]] = answer\n"
     ]
    },
    {
     "name": "stdout",
     "output_type": "stream",
     "text": [
      "Iteration: 0\n",
      "Prompt name: political_culture_7\n",
      "Success\n",
      "\n",
      "Iteration: 0\n",
      "Prompt name: political_culture_8\n",
      "Success\n",
      "\n"
     ]
    },
    {
     "name": "stderr",
     "output_type": "stream",
     "text": [
      "C:\\Users\\monaj\\AppData\\Local\\Temp\\ipykernel_21944\\3938600487.py:19: PerformanceWarning: DataFrame is highly fragmented.  This is usually the result of calling `frame.insert` many times, which has poor performance.  Consider joining all columns at once using pd.concat(axis=1) instead. To get a de-fragmented frame, use `newframe = frame.copy()`\n",
      "  df.loc[count, prompts.loc[j, \"Name\"]] = answer\n"
     ]
    }
   ],
   "source": [
    "iterations = 1\n",
    "df = pd.DataFrame()\n",
    "\n",
    "count = 0\n",
    "while count < iterations:\n",
    "    j = 0\n",
    "    while j < prompts.shape[0]:\n",
    "        system_content = \"\"\n",
    "        system_user_content = \"You are a randomly chosen human in this world. \"\n",
    "        user_content = system_user_content + prompts.loc[j, \"English\"]\n",
    "        try:\n",
    "            response = openai.ChatCompletion.create(\n",
    "                model = \"gpt-3.5-turbo-0301\",\n",
    "                temperature = 1.0,\n",
    "                messages=[{\"role\": \"user\", \"content\": user_content}]\n",
    "            )\n",
    "            answer = response['choices'][0]['message']['content']\n",
    "\n",
    "            df.loc[count, prompts.loc[j, \"Name\"]] = answer\n",
    "            df.to_csv(\"English_run_2.csv\", index=False)\n",
    "            \n",
    "            success_message = 'Iteration: '+str(count) + \"\\nPrompt name: \" + str(prompts.loc[j, \"Name\"]) + \"\\nSuccess\" +\"\\n\"\n",
    "            print(success_message)\n",
    "\n",
    "            time.sleep(delay)\n",
    "            j+=1\n",
    "        except Exception as e:\n",
    "            error_message = 'Iteration: ' + str(count) + '\\nPrompt name: ' + str(prompts.loc[j, \"Name\"]) + \"\\nError, trying again in 60 seconds\\n\" + str(e) + \"\\n\"\n",
    "            print(error_message) \n",
    "            time.sleep(60)       \n",
    "    count +=1"
   ]
  },
  {
   "cell_type": "code",
   "execution_count": 12,
   "metadata": {},
   "outputs": [
    {
     "data": {
      "text/plain": [
       "252"
      ]
     },
     "execution_count": 12,
     "metadata": {},
     "output_type": "execute_result"
    }
   ],
   "source": []
  },
  {
   "cell_type": "code",
   "execution_count": null,
   "metadata": {},
   "outputs": [],
   "source": []
  }
 ],
 "metadata": {
  "kernelspec": {
   "display_name": "Python 3",
   "language": "python",
   "name": "python3"
  },
  "language_info": {
   "codemirror_mode": {
    "name": "ipython",
    "version": 3
   },
   "file_extension": ".py",
   "mimetype": "text/x-python",
   "name": "python",
   "nbconvert_exporter": "python",
   "pygments_lexer": "ipython3",
   "version": "3.11.2"
  }
 },
 "nbformat": 4,
 "nbformat_minor": 2
}
